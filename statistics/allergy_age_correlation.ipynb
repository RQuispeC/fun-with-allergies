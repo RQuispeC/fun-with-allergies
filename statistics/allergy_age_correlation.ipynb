{
 "cells": [
  {
   "cell_type": "markdown",
   "metadata": {},
   "source": [
    "# Correlation between age and allergies"
   ]
  },
  {
   "cell_type": "markdown",
   "metadata": {},
   "source": [
    "Data was generated using https://github.com/synthetichealth/synthea\n",
    "Load it:"
   ]
  },
  {
   "cell_type": "code",
   "execution_count": 1,
   "metadata": {},
   "outputs": [],
   "source": [
    "import pandas as pd\n",
    "\n",
    "pacients = pd.read_csv(\"../data/output1000/patients.csv\", encoding=\"ISO-8859-1\")\n",
    "allergies = pd.read_csv(\"../data/output1000/allergies.csv\")"
   ]
  },
  {
   "cell_type": "code",
   "execution_count": 2,
   "metadata": {},
   "outputs": [
    {
     "data": {
      "text/html": [
       "<div>\n",
       "<style scoped>\n",
       "    .dataframe tbody tr th:only-of-type {\n",
       "        vertical-align: middle;\n",
       "    }\n",
       "\n",
       "    .dataframe tbody tr th {\n",
       "        vertical-align: top;\n",
       "    }\n",
       "\n",
       "    .dataframe thead th {\n",
       "        text-align: right;\n",
       "    }\n",
       "</style>\n",
       "<table border=\"1\" class=\"dataframe\">\n",
       "  <thead>\n",
       "    <tr style=\"text-align: right;\">\n",
       "      <th></th>\n",
       "      <th>Id</th>\n",
       "      <th>BIRTHDATE</th>\n",
       "      <th>DEATHDATE</th>\n",
       "      <th>SSN</th>\n",
       "      <th>DRIVERS</th>\n",
       "      <th>PASSPORT</th>\n",
       "      <th>PREFIX</th>\n",
       "      <th>FIRST</th>\n",
       "      <th>LAST</th>\n",
       "      <th>SUFFIX</th>\n",
       "      <th>MAIDEN</th>\n",
       "      <th>MARITAL</th>\n",
       "      <th>RACE</th>\n",
       "      <th>ETHNICITY</th>\n",
       "      <th>GENDER</th>\n",
       "      <th>BIRTHPLACE</th>\n",
       "      <th>ADDRESS</th>\n",
       "      <th>CITY</th>\n",
       "      <th>STATE</th>\n",
       "      <th>ZIP</th>\n",
       "    </tr>\n",
       "  </thead>\n",
       "  <tbody>\n",
       "    <tr>\n",
       "      <th>0</th>\n",
       "      <td>b186a623-3d54-4bac-971d-f49c115b89d5</td>\n",
       "      <td>2011-11-20</td>\n",
       "      <td>NaN</td>\n",
       "      <td>999-42-1278</td>\n",
       "      <td>NaN</td>\n",
       "      <td>NaN</td>\n",
       "      <td>NaN</td>\n",
       "      <td>Ola364</td>\n",
       "      <td>Nicolas769</td>\n",
       "      <td>NaN</td>\n",
       "      <td>NaN</td>\n",
       "      <td>NaN</td>\n",
       "      <td>white</td>\n",
       "      <td>irish</td>\n",
       "      <td>F</td>\n",
       "      <td>Boston  Massachusetts  US</td>\n",
       "      <td>746 Macejkovic Gardens</td>\n",
       "      <td>West Bridgewater</td>\n",
       "      <td>Massachusetts</td>\n",
       "      <td>2379.0</td>\n",
       "    </tr>\n",
       "    <tr>\n",
       "      <th>1</th>\n",
       "      <td>ba8d73a2-10bc-4c24-9830-8283afae3ac0</td>\n",
       "      <td>1993-07-25</td>\n",
       "      <td>NaN</td>\n",
       "      <td>999-18-2283</td>\n",
       "      <td>S99990985</td>\n",
       "      <td>X29181576X</td>\n",
       "      <td>Mr.</td>\n",
       "      <td>Rubin812</td>\n",
       "      <td>Miller503</td>\n",
       "      <td>NaN</td>\n",
       "      <td>NaN</td>\n",
       "      <td>NaN</td>\n",
       "      <td>white</td>\n",
       "      <td>english</td>\n",
       "      <td>M</td>\n",
       "      <td>Waltham  Massachusetts  US</td>\n",
       "      <td>749 Gutkowski Overpass</td>\n",
       "      <td>Fall River</td>\n",
       "      <td>Massachusetts</td>\n",
       "      <td>2720.0</td>\n",
       "    </tr>\n",
       "    <tr>\n",
       "      <th>2</th>\n",
       "      <td>65c656cd-a7a5-4a0e-8bb2-9272ee9df713</td>\n",
       "      <td>2006-03-25</td>\n",
       "      <td>NaN</td>\n",
       "      <td>999-41-4861</td>\n",
       "      <td>NaN</td>\n",
       "      <td>NaN</td>\n",
       "      <td>NaN</td>\n",
       "      <td>Esperanza675</td>\n",
       "      <td>Moya426</td>\n",
       "      <td>NaN</td>\n",
       "      <td>NaN</td>\n",
       "      <td>NaN</td>\n",
       "      <td>hispanic</td>\n",
       "      <td>puerto_rican</td>\n",
       "      <td>F</td>\n",
       "      <td>Ponce  Puerto Rico  PR</td>\n",
       "      <td>959 Ruecker Crossing</td>\n",
       "      <td>Somerville</td>\n",
       "      <td>Massachusetts</td>\n",
       "      <td>2138.0</td>\n",
       "    </tr>\n",
       "    <tr>\n",
       "      <th>3</th>\n",
       "      <td>b182645e-7ca0-4c75-b42b-644919fd2cc4</td>\n",
       "      <td>1966-06-28</td>\n",
       "      <td>NaN</td>\n",
       "      <td>999-90-5732</td>\n",
       "      <td>S99964068</td>\n",
       "      <td>X35323316X</td>\n",
       "      <td>Mrs.</td>\n",
       "      <td>Halley419</td>\n",
       "      <td>Lang846</td>\n",
       "      <td>NaN</td>\n",
       "      <td>Ratke343</td>\n",
       "      <td>M</td>\n",
       "      <td>asian</td>\n",
       "      <td>chinese</td>\n",
       "      <td>F</td>\n",
       "      <td>Chongqing  Chongqing Municipality  CN</td>\n",
       "      <td>951 Beier Trafficway Apt 3</td>\n",
       "      <td>Peabody</td>\n",
       "      <td>Massachusetts</td>\n",
       "      <td>1940.0</td>\n",
       "    </tr>\n",
       "    <tr>\n",
       "      <th>4</th>\n",
       "      <td>8e54772b-7510-4de0-8466-7c10722e73d3</td>\n",
       "      <td>1972-04-03</td>\n",
       "      <td>NaN</td>\n",
       "      <td>999-39-3195</td>\n",
       "      <td>S99972514</td>\n",
       "      <td>X11117975X</td>\n",
       "      <td>Mr.</td>\n",
       "      <td>Luther918</td>\n",
       "      <td>Bahringer146</td>\n",
       "      <td>NaN</td>\n",
       "      <td>NaN</td>\n",
       "      <td>M</td>\n",
       "      <td>white</td>\n",
       "      <td>english</td>\n",
       "      <td>M</td>\n",
       "      <td>Everett  Massachusetts  US</td>\n",
       "      <td>158 Boyle Meadow Suite 62</td>\n",
       "      <td>Fall River</td>\n",
       "      <td>Massachusetts</td>\n",
       "      <td>2720.0</td>\n",
       "    </tr>\n",
       "  </tbody>\n",
       "</table>\n",
       "</div>"
      ],
      "text/plain": [
       "                                     Id   BIRTHDATE DEATHDATE          SSN  \\\n",
       "0  b186a623-3d54-4bac-971d-f49c115b89d5  2011-11-20       NaN  999-42-1278   \n",
       "1  ba8d73a2-10bc-4c24-9830-8283afae3ac0  1993-07-25       NaN  999-18-2283   \n",
       "2  65c656cd-a7a5-4a0e-8bb2-9272ee9df713  2006-03-25       NaN  999-41-4861   \n",
       "3  b182645e-7ca0-4c75-b42b-644919fd2cc4  1966-06-28       NaN  999-90-5732   \n",
       "4  8e54772b-7510-4de0-8466-7c10722e73d3  1972-04-03       NaN  999-39-3195   \n",
       "\n",
       "     DRIVERS    PASSPORT PREFIX         FIRST          LAST SUFFIX    MAIDEN  \\\n",
       "0        NaN         NaN    NaN        Ola364    Nicolas769    NaN       NaN   \n",
       "1  S99990985  X29181576X    Mr.      Rubin812     Miller503    NaN       NaN   \n",
       "2        NaN         NaN    NaN  Esperanza675       Moya426    NaN       NaN   \n",
       "3  S99964068  X35323316X   Mrs.     Halley419       Lang846    NaN  Ratke343   \n",
       "4  S99972514  X11117975X    Mr.     Luther918  Bahringer146    NaN       NaN   \n",
       "\n",
       "  MARITAL      RACE     ETHNICITY GENDER  \\\n",
       "0     NaN     white         irish      F   \n",
       "1     NaN     white       english      M   \n",
       "2     NaN  hispanic  puerto_rican      F   \n",
       "3       M     asian       chinese      F   \n",
       "4       M     white       english      M   \n",
       "\n",
       "                              BIRTHPLACE                     ADDRESS  \\\n",
       "0              Boston  Massachusetts  US      746 Macejkovic Gardens   \n",
       "1             Waltham  Massachusetts  US      749 Gutkowski Overpass   \n",
       "2                 Ponce  Puerto Rico  PR        959 Ruecker Crossing   \n",
       "3  Chongqing  Chongqing Municipality  CN  951 Beier Trafficway Apt 3   \n",
       "4             Everett  Massachusetts  US   158 Boyle Meadow Suite 62   \n",
       "\n",
       "               CITY          STATE     ZIP  \n",
       "0  West Bridgewater  Massachusetts  2379.0  \n",
       "1        Fall River  Massachusetts  2720.0  \n",
       "2        Somerville  Massachusetts  2138.0  \n",
       "3           Peabody  Massachusetts  1940.0  \n",
       "4        Fall River  Massachusetts  2720.0  "
      ]
     },
     "execution_count": 2,
     "metadata": {},
     "output_type": "execute_result"
    }
   ],
   "source": [
    "pacients.head()"
   ]
  },
  {
   "cell_type": "code",
   "execution_count": 3,
   "metadata": {},
   "outputs": [
    {
     "data": {
      "text/html": [
       "<div>\n",
       "<style scoped>\n",
       "    .dataframe tbody tr th:only-of-type {\n",
       "        vertical-align: middle;\n",
       "    }\n",
       "\n",
       "    .dataframe tbody tr th {\n",
       "        vertical-align: top;\n",
       "    }\n",
       "\n",
       "    .dataframe thead th {\n",
       "        text-align: right;\n",
       "    }\n",
       "</style>\n",
       "<table border=\"1\" class=\"dataframe\">\n",
       "  <thead>\n",
       "    <tr style=\"text-align: right;\">\n",
       "      <th></th>\n",
       "      <th>START</th>\n",
       "      <th>STOP</th>\n",
       "      <th>PATIENT</th>\n",
       "      <th>ENCOUNTER</th>\n",
       "      <th>CODE</th>\n",
       "      <th>DESCRIPTION</th>\n",
       "    </tr>\n",
       "  </thead>\n",
       "  <tbody>\n",
       "    <tr>\n",
       "      <th>0</th>\n",
       "      <td>2007-05-01</td>\n",
       "      <td>NaN</td>\n",
       "      <td>65c656cd-a7a5-4a0e-8bb2-9272ee9df713</td>\n",
       "      <td>b3f2ed22-68e1-4e20-940e-583d245cbf48</td>\n",
       "      <td>424213003</td>\n",
       "      <td>Allergy to bee venom</td>\n",
       "    </tr>\n",
       "    <tr>\n",
       "      <th>1</th>\n",
       "      <td>1976-01-24</td>\n",
       "      <td>NaN</td>\n",
       "      <td>23a4bbe4-4ed0-4bef-b626-f07ea6a411e3</td>\n",
       "      <td>c571e5a8-6deb-41ef-a3d7-ea477411ee7b</td>\n",
       "      <td>419474003</td>\n",
       "      <td>Allergy to mould</td>\n",
       "    </tr>\n",
       "    <tr>\n",
       "      <th>2</th>\n",
       "      <td>1976-01-24</td>\n",
       "      <td>NaN</td>\n",
       "      <td>23a4bbe4-4ed0-4bef-b626-f07ea6a411e3</td>\n",
       "      <td>c571e5a8-6deb-41ef-a3d7-ea477411ee7b</td>\n",
       "      <td>232350006</td>\n",
       "      <td>House dust mite allergy</td>\n",
       "    </tr>\n",
       "    <tr>\n",
       "      <th>3</th>\n",
       "      <td>1976-01-24</td>\n",
       "      <td>NaN</td>\n",
       "      <td>23a4bbe4-4ed0-4bef-b626-f07ea6a411e3</td>\n",
       "      <td>c571e5a8-6deb-41ef-a3d7-ea477411ee7b</td>\n",
       "      <td>232347008</td>\n",
       "      <td>Dander (animal) allergy</td>\n",
       "    </tr>\n",
       "    <tr>\n",
       "      <th>4</th>\n",
       "      <td>1976-01-24</td>\n",
       "      <td>NaN</td>\n",
       "      <td>23a4bbe4-4ed0-4bef-b626-f07ea6a411e3</td>\n",
       "      <td>c571e5a8-6deb-41ef-a3d7-ea477411ee7b</td>\n",
       "      <td>419263009</td>\n",
       "      <td>Allergy to tree pollen</td>\n",
       "    </tr>\n",
       "  </tbody>\n",
       "</table>\n",
       "</div>"
      ],
      "text/plain": [
       "        START STOP                               PATIENT  \\\n",
       "0  2007-05-01  NaN  65c656cd-a7a5-4a0e-8bb2-9272ee9df713   \n",
       "1  1976-01-24  NaN  23a4bbe4-4ed0-4bef-b626-f07ea6a411e3   \n",
       "2  1976-01-24  NaN  23a4bbe4-4ed0-4bef-b626-f07ea6a411e3   \n",
       "3  1976-01-24  NaN  23a4bbe4-4ed0-4bef-b626-f07ea6a411e3   \n",
       "4  1976-01-24  NaN  23a4bbe4-4ed0-4bef-b626-f07ea6a411e3   \n",
       "\n",
       "                              ENCOUNTER       CODE              DESCRIPTION  \n",
       "0  b3f2ed22-68e1-4e20-940e-583d245cbf48  424213003     Allergy to bee venom  \n",
       "1  c571e5a8-6deb-41ef-a3d7-ea477411ee7b  419474003         Allergy to mould  \n",
       "2  c571e5a8-6deb-41ef-a3d7-ea477411ee7b  232350006  House dust mite allergy  \n",
       "3  c571e5a8-6deb-41ef-a3d7-ea477411ee7b  232347008  Dander (animal) allergy  \n",
       "4  c571e5a8-6deb-41ef-a3d7-ea477411ee7b  419263009   Allergy to tree pollen  "
      ]
     },
     "execution_count": 3,
     "metadata": {},
     "output_type": "execute_result"
    }
   ],
   "source": [
    "allergies.head()\n"
   ]
  },
  {
   "cell_type": "markdown",
   "metadata": {},
   "source": [
    "Join `allergies.tsv` and `pacients.tsv` based on the ID"
   ]
  },
  {
   "cell_type": "code",
   "execution_count": 4,
   "metadata": {},
   "outputs": [
    {
     "data": {
      "text/html": [
       "<div>\n",
       "<style scoped>\n",
       "    .dataframe tbody tr th:only-of-type {\n",
       "        vertical-align: middle;\n",
       "    }\n",
       "\n",
       "    .dataframe tbody tr th {\n",
       "        vertical-align: top;\n",
       "    }\n",
       "\n",
       "    .dataframe thead th {\n",
       "        text-align: right;\n",
       "    }\n",
       "</style>\n",
       "<table border=\"1\" class=\"dataframe\">\n",
       "  <thead>\n",
       "    <tr style=\"text-align: right;\">\n",
       "      <th></th>\n",
       "      <th>Id</th>\n",
       "      <th>BIRTHDATE</th>\n",
       "      <th>DEATHDATE</th>\n",
       "      <th>MARITAL</th>\n",
       "      <th>RACE</th>\n",
       "      <th>ETHNICITY</th>\n",
       "      <th>GENDER</th>\n",
       "      <th>CITY</th>\n",
       "      <th>CODE</th>\n",
       "      <th>DESCRIPTION</th>\n",
       "      <th>START</th>\n",
       "      <th>STOP</th>\n",
       "    </tr>\n",
       "  </thead>\n",
       "  <tbody>\n",
       "    <tr>\n",
       "      <th>0</th>\n",
       "      <td>65c656cd-a7a5-4a0e-8bb2-9272ee9df713</td>\n",
       "      <td>2006-03-25</td>\n",
       "      <td>NaN</td>\n",
       "      <td>NaN</td>\n",
       "      <td>hispanic</td>\n",
       "      <td>puerto_rican</td>\n",
       "      <td>F</td>\n",
       "      <td>Somerville</td>\n",
       "      <td>424213003</td>\n",
       "      <td>Allergy to bee venom</td>\n",
       "      <td>2007-05-01</td>\n",
       "      <td>NaN</td>\n",
       "    </tr>\n",
       "    <tr>\n",
       "      <th>1</th>\n",
       "      <td>65c656cd-a7a5-4a0e-8bb2-9272ee9df713</td>\n",
       "      <td>2006-03-25</td>\n",
       "      <td>NaN</td>\n",
       "      <td>NaN</td>\n",
       "      <td>hispanic</td>\n",
       "      <td>puerto_rican</td>\n",
       "      <td>F</td>\n",
       "      <td>Somerville</td>\n",
       "      <td>419474003</td>\n",
       "      <td>Allergy to mould</td>\n",
       "      <td>2007-05-01</td>\n",
       "      <td>NaN</td>\n",
       "    </tr>\n",
       "    <tr>\n",
       "      <th>2</th>\n",
       "      <td>65c656cd-a7a5-4a0e-8bb2-9272ee9df713</td>\n",
       "      <td>2006-03-25</td>\n",
       "      <td>NaN</td>\n",
       "      <td>NaN</td>\n",
       "      <td>hispanic</td>\n",
       "      <td>puerto_rican</td>\n",
       "      <td>F</td>\n",
       "      <td>Somerville</td>\n",
       "      <td>232350006</td>\n",
       "      <td>House dust mite allergy</td>\n",
       "      <td>2007-05-01</td>\n",
       "      <td>NaN</td>\n",
       "    </tr>\n",
       "    <tr>\n",
       "      <th>3</th>\n",
       "      <td>65c656cd-a7a5-4a0e-8bb2-9272ee9df713</td>\n",
       "      <td>2006-03-25</td>\n",
       "      <td>NaN</td>\n",
       "      <td>NaN</td>\n",
       "      <td>hispanic</td>\n",
       "      <td>puerto_rican</td>\n",
       "      <td>F</td>\n",
       "      <td>Somerville</td>\n",
       "      <td>232347008</td>\n",
       "      <td>Dander (animal) allergy</td>\n",
       "      <td>2007-05-01</td>\n",
       "      <td>NaN</td>\n",
       "    </tr>\n",
       "    <tr>\n",
       "      <th>4</th>\n",
       "      <td>65c656cd-a7a5-4a0e-8bb2-9272ee9df713</td>\n",
       "      <td>2006-03-25</td>\n",
       "      <td>NaN</td>\n",
       "      <td>NaN</td>\n",
       "      <td>hispanic</td>\n",
       "      <td>puerto_rican</td>\n",
       "      <td>F</td>\n",
       "      <td>Somerville</td>\n",
       "      <td>418689008</td>\n",
       "      <td>Allergy to grass pollen</td>\n",
       "      <td>2007-05-01</td>\n",
       "      <td>NaN</td>\n",
       "    </tr>\n",
       "  </tbody>\n",
       "</table>\n",
       "</div>"
      ],
      "text/plain": [
       "                                     Id   BIRTHDATE DEATHDATE MARITAL  \\\n",
       "0  65c656cd-a7a5-4a0e-8bb2-9272ee9df713  2006-03-25       NaN     NaN   \n",
       "1  65c656cd-a7a5-4a0e-8bb2-9272ee9df713  2006-03-25       NaN     NaN   \n",
       "2  65c656cd-a7a5-4a0e-8bb2-9272ee9df713  2006-03-25       NaN     NaN   \n",
       "3  65c656cd-a7a5-4a0e-8bb2-9272ee9df713  2006-03-25       NaN     NaN   \n",
       "4  65c656cd-a7a5-4a0e-8bb2-9272ee9df713  2006-03-25       NaN     NaN   \n",
       "\n",
       "       RACE     ETHNICITY GENDER        CITY       CODE  \\\n",
       "0  hispanic  puerto_rican      F  Somerville  424213003   \n",
       "1  hispanic  puerto_rican      F  Somerville  419474003   \n",
       "2  hispanic  puerto_rican      F  Somerville  232350006   \n",
       "3  hispanic  puerto_rican      F  Somerville  232347008   \n",
       "4  hispanic  puerto_rican      F  Somerville  418689008   \n",
       "\n",
       "               DESCRIPTION       START STOP  \n",
       "0     Allergy to bee venom  2007-05-01  NaN  \n",
       "1         Allergy to mould  2007-05-01  NaN  \n",
       "2  House dust mite allergy  2007-05-01  NaN  \n",
       "3  Dander (animal) allergy  2007-05-01  NaN  \n",
       "4  Allergy to grass pollen  2007-05-01  NaN  "
      ]
     },
     "execution_count": 4,
     "metadata": {},
     "output_type": "execute_result"
    }
   ],
   "source": [
    "data_raw = pd.merge(pacients, allergies, left_on='Id', right_on='PATIENT').get(['Id', 'BIRTHDATE', 'DEATHDATE', 'MARITAL', 'RACE', 'ETHNICITY', 'GENDER', 'CITY', 'CODE', 'DESCRIPTION', 'START', 'STOP'])\n",
    "data_raw.head()"
   ]
  },
  {
   "cell_type": "markdown",
   "metadata": {},
   "source": [
    "Parse birthday year and allergy start date year"
   ]
  },
  {
   "cell_type": "code",
   "execution_count": 5,
   "metadata": {},
   "outputs": [
    {
     "data": {
      "text/html": [
       "<div>\n",
       "<style scoped>\n",
       "    .dataframe tbody tr th:only-of-type {\n",
       "        vertical-align: middle;\n",
       "    }\n",
       "\n",
       "    .dataframe tbody tr th {\n",
       "        vertical-align: top;\n",
       "    }\n",
       "\n",
       "    .dataframe thead th {\n",
       "        text-align: right;\n",
       "    }\n",
       "</style>\n",
       "<table border=\"1\" class=\"dataframe\">\n",
       "  <thead>\n",
       "    <tr style=\"text-align: right;\">\n",
       "      <th></th>\n",
       "      <th>Id</th>\n",
       "      <th>BIRTHDATE</th>\n",
       "      <th>DEATHDATE</th>\n",
       "      <th>MARITAL</th>\n",
       "      <th>RACE</th>\n",
       "      <th>ETHNICITY</th>\n",
       "      <th>GENDER</th>\n",
       "      <th>CITY</th>\n",
       "      <th>CODE</th>\n",
       "      <th>DESCRIPTION</th>\n",
       "      <th>START</th>\n",
       "      <th>STOP</th>\n",
       "      <th>BIRTHDATE_YEAR</th>\n",
       "      <th>START_YEAR</th>\n",
       "    </tr>\n",
       "  </thead>\n",
       "  <tbody>\n",
       "    <tr>\n",
       "      <th>0</th>\n",
       "      <td>65c656cd-a7a5-4a0e-8bb2-9272ee9df713</td>\n",
       "      <td>2006-03-25</td>\n",
       "      <td>NaN</td>\n",
       "      <td>NaN</td>\n",
       "      <td>hispanic</td>\n",
       "      <td>puerto_rican</td>\n",
       "      <td>F</td>\n",
       "      <td>Somerville</td>\n",
       "      <td>424213003</td>\n",
       "      <td>Allergy to bee venom</td>\n",
       "      <td>2007-05-01</td>\n",
       "      <td>NaN</td>\n",
       "      <td>2006</td>\n",
       "      <td>2007</td>\n",
       "    </tr>\n",
       "    <tr>\n",
       "      <th>1</th>\n",
       "      <td>65c656cd-a7a5-4a0e-8bb2-9272ee9df713</td>\n",
       "      <td>2006-03-25</td>\n",
       "      <td>NaN</td>\n",
       "      <td>NaN</td>\n",
       "      <td>hispanic</td>\n",
       "      <td>puerto_rican</td>\n",
       "      <td>F</td>\n",
       "      <td>Somerville</td>\n",
       "      <td>419474003</td>\n",
       "      <td>Allergy to mould</td>\n",
       "      <td>2007-05-01</td>\n",
       "      <td>NaN</td>\n",
       "      <td>2006</td>\n",
       "      <td>2007</td>\n",
       "    </tr>\n",
       "    <tr>\n",
       "      <th>2</th>\n",
       "      <td>65c656cd-a7a5-4a0e-8bb2-9272ee9df713</td>\n",
       "      <td>2006-03-25</td>\n",
       "      <td>NaN</td>\n",
       "      <td>NaN</td>\n",
       "      <td>hispanic</td>\n",
       "      <td>puerto_rican</td>\n",
       "      <td>F</td>\n",
       "      <td>Somerville</td>\n",
       "      <td>232350006</td>\n",
       "      <td>House dust mite allergy</td>\n",
       "      <td>2007-05-01</td>\n",
       "      <td>NaN</td>\n",
       "      <td>2006</td>\n",
       "      <td>2007</td>\n",
       "    </tr>\n",
       "    <tr>\n",
       "      <th>3</th>\n",
       "      <td>65c656cd-a7a5-4a0e-8bb2-9272ee9df713</td>\n",
       "      <td>2006-03-25</td>\n",
       "      <td>NaN</td>\n",
       "      <td>NaN</td>\n",
       "      <td>hispanic</td>\n",
       "      <td>puerto_rican</td>\n",
       "      <td>F</td>\n",
       "      <td>Somerville</td>\n",
       "      <td>232347008</td>\n",
       "      <td>Dander (animal) allergy</td>\n",
       "      <td>2007-05-01</td>\n",
       "      <td>NaN</td>\n",
       "      <td>2006</td>\n",
       "      <td>2007</td>\n",
       "    </tr>\n",
       "    <tr>\n",
       "      <th>4</th>\n",
       "      <td>65c656cd-a7a5-4a0e-8bb2-9272ee9df713</td>\n",
       "      <td>2006-03-25</td>\n",
       "      <td>NaN</td>\n",
       "      <td>NaN</td>\n",
       "      <td>hispanic</td>\n",
       "      <td>puerto_rican</td>\n",
       "      <td>F</td>\n",
       "      <td>Somerville</td>\n",
       "      <td>418689008</td>\n",
       "      <td>Allergy to grass pollen</td>\n",
       "      <td>2007-05-01</td>\n",
       "      <td>NaN</td>\n",
       "      <td>2006</td>\n",
       "      <td>2007</td>\n",
       "    </tr>\n",
       "  </tbody>\n",
       "</table>\n",
       "</div>"
      ],
      "text/plain": [
       "                                     Id   BIRTHDATE DEATHDATE MARITAL  \\\n",
       "0  65c656cd-a7a5-4a0e-8bb2-9272ee9df713  2006-03-25       NaN     NaN   \n",
       "1  65c656cd-a7a5-4a0e-8bb2-9272ee9df713  2006-03-25       NaN     NaN   \n",
       "2  65c656cd-a7a5-4a0e-8bb2-9272ee9df713  2006-03-25       NaN     NaN   \n",
       "3  65c656cd-a7a5-4a0e-8bb2-9272ee9df713  2006-03-25       NaN     NaN   \n",
       "4  65c656cd-a7a5-4a0e-8bb2-9272ee9df713  2006-03-25       NaN     NaN   \n",
       "\n",
       "       RACE     ETHNICITY GENDER        CITY       CODE  \\\n",
       "0  hispanic  puerto_rican      F  Somerville  424213003   \n",
       "1  hispanic  puerto_rican      F  Somerville  419474003   \n",
       "2  hispanic  puerto_rican      F  Somerville  232350006   \n",
       "3  hispanic  puerto_rican      F  Somerville  232347008   \n",
       "4  hispanic  puerto_rican      F  Somerville  418689008   \n",
       "\n",
       "               DESCRIPTION       START STOP  BIRTHDATE_YEAR  START_YEAR  \n",
       "0     Allergy to bee venom  2007-05-01  NaN            2006        2007  \n",
       "1         Allergy to mould  2007-05-01  NaN            2006        2007  \n",
       "2  House dust mite allergy  2007-05-01  NaN            2006        2007  \n",
       "3  Dander (animal) allergy  2007-05-01  NaN            2006        2007  \n",
       "4  Allergy to grass pollen  2007-05-01  NaN            2006        2007  "
      ]
     },
     "execution_count": 5,
     "metadata": {},
     "output_type": "execute_result"
    }
   ],
   "source": [
    "data_raw['BIRTHDATE_YEAR'] = data_raw['BIRTHDATE'].apply(lambda x: int(x[:4]))\n",
    "data_raw['START_YEAR'] = data_raw['START'].apply(lambda x: int(x[:4]))\n",
    "data_raw.head()"
   ]
  },
  {
   "cell_type": "markdown",
   "metadata": {},
   "source": [
    "Compute correlation between the data variables"
   ]
  },
  {
   "cell_type": "code",
   "execution_count": 6,
   "metadata": {},
   "outputs": [
    {
     "data": {
      "text/html": [
       "<div>\n",
       "<style scoped>\n",
       "    .dataframe tbody tr th:only-of-type {\n",
       "        vertical-align: middle;\n",
       "    }\n",
       "\n",
       "    .dataframe tbody tr th {\n",
       "        vertical-align: top;\n",
       "    }\n",
       "\n",
       "    .dataframe thead th {\n",
       "        text-align: right;\n",
       "    }\n",
       "</style>\n",
       "<table border=\"1\" class=\"dataframe\">\n",
       "  <thead>\n",
       "    <tr style=\"text-align: right;\">\n",
       "      <th></th>\n",
       "      <th>CODE</th>\n",
       "      <th>BIRTHDATE_YEAR</th>\n",
       "      <th>START_YEAR</th>\n",
       "    </tr>\n",
       "  </thead>\n",
       "  <tbody>\n",
       "    <tr>\n",
       "      <th>CODE</th>\n",
       "      <td>1.000000</td>\n",
       "      <td>0.102440</td>\n",
       "      <td>0.107737</td>\n",
       "    </tr>\n",
       "    <tr>\n",
       "      <th>BIRTHDATE_YEAR</th>\n",
       "      <td>0.102440</td>\n",
       "      <td>1.000000</td>\n",
       "      <td>0.991835</td>\n",
       "    </tr>\n",
       "    <tr>\n",
       "      <th>START_YEAR</th>\n",
       "      <td>0.107737</td>\n",
       "      <td>0.991835</td>\n",
       "      <td>1.000000</td>\n",
       "    </tr>\n",
       "  </tbody>\n",
       "</table>\n",
       "</div>"
      ],
      "text/plain": [
       "                    CODE  BIRTHDATE_YEAR  START_YEAR\n",
       "CODE            1.000000        0.102440    0.107737\n",
       "BIRTHDATE_YEAR  0.102440        1.000000    0.991835\n",
       "START_YEAR      0.107737        0.991835    1.000000"
      ]
     },
     "execution_count": 6,
     "metadata": {},
     "output_type": "execute_result"
    }
   ],
   "source": [
    "data_raw.corr()"
   ]
  },
  {
   "cell_type": "markdown",
   "metadata": {},
   "source": [
    "We can see that there is high correlation between the year of birth and year of the start date of the allergies, let us plot the data distribution of these two variables."
   ]
  },
  {
   "cell_type": "code",
   "execution_count": 7,
   "metadata": {},
   "outputs": [
    {
     "data": {
      "text/plain": [
       "<matplotlib.axes._subplots.AxesSubplot at 0x2ed1831be80>"
      ]
     },
     "execution_count": 7,
     "metadata": {},
     "output_type": "execute_result"
    }
   ],
   "source": [
    "data_raw['START_YEAR'].value_counts().hist(bins = 20)"
   ]
  },
  {
   "cell_type": "code",
   "execution_count": 8,
   "metadata": {},
   "outputs": [
    {
     "data": {
      "text/plain": [
       "<matplotlib.axes._subplots.AxesSubplot at 0x2ed182514e0>"
      ]
     },
     "execution_count": 8,
     "metadata": {},
     "output_type": "execute_result"
    },
    {
     "data": {
      "image/png": "[encoded data removed]",
      "text/plain": [
       "<Figure size 432x288 with 1 Axes>"
      ]
     },
     "metadata": {
      "needs_background": "light"
     },
     "output_type": "display_data"
    }
   ],
   "source": [
    "data_raw['BIRTHDATE_YEAR'].value_counts().hist(bins = 20)"
   ]
  },
  {
   "cell_type": "markdown",
   "metadata": {},
   "source": [
    "Compute the number of months when people started having allergies"
   ]
  },
  {
   "cell_type": "code",
   "execution_count": 9,
   "metadata": {},
   "outputs": [
    {
     "data": {
      "text/html": [
       "<div>\n",
       "<style scoped>\n",
       "    .dataframe tbody tr th:only-of-type {\n",
       "        vertical-align: middle;\n",
       "    }\n",
       "\n",
       "    .dataframe tbody tr th {\n",
       "        vertical-align: top;\n",
       "    }\n",
       "\n",
       "    .dataframe thead th {\n",
       "        text-align: right;\n",
       "    }\n",
       "</style>\n",
       "<table border=\"1\" class=\"dataframe\">\n",
       "  <thead>\n",
       "    <tr style=\"text-align: right;\">\n",
       "      <th></th>\n",
       "      <th>Id</th>\n",
       "      <th>BIRTHDATE</th>\n",
       "      <th>DEATHDATE</th>\n",
       "      <th>MARITAL</th>\n",
       "      <th>RACE</th>\n",
       "      <th>ETHNICITY</th>\n",
       "      <th>GENDER</th>\n",
       "      <th>CITY</th>\n",
       "      <th>CODE</th>\n",
       "      <th>DESCRIPTION</th>\n",
       "      <th>START</th>\n",
       "      <th>STOP</th>\n",
       "      <th>BIRTHDATE_YEAR</th>\n",
       "      <th>START_YEAR</th>\n",
       "      <th>MONTHS_ALLERGY_START</th>\n",
       "    </tr>\n",
       "  </thead>\n",
       "  <tbody>\n",
       "    <tr>\n",
       "      <th>0</th>\n",
       "      <td>65c656cd-a7a5-4a0e-8bb2-9272ee9df713</td>\n",
       "      <td>2006-03-25</td>\n",
       "      <td>NaN</td>\n",
       "      <td>NaN</td>\n",
       "      <td>hispanic</td>\n",
       "      <td>puerto_rican</td>\n",
       "      <td>F</td>\n",
       "      <td>Somerville</td>\n",
       "      <td>424213003</td>\n",
       "      <td>Allergy to bee venom</td>\n",
       "      <td>2007-05-01</td>\n",
       "      <td>NaN</td>\n",
       "      <td>2006</td>\n",
       "      <td>2007</td>\n",
       "      <td>14</td>\n",
       "    </tr>\n",
       "    <tr>\n",
       "      <th>1</th>\n",
       "      <td>65c656cd-a7a5-4a0e-8bb2-9272ee9df713</td>\n",
       "      <td>2006-03-25</td>\n",
       "      <td>NaN</td>\n",
       "      <td>NaN</td>\n",
       "      <td>hispanic</td>\n",
       "      <td>puerto_rican</td>\n",
       "      <td>F</td>\n",
       "      <td>Somerville</td>\n",
       "      <td>419474003</td>\n",
       "      <td>Allergy to mould</td>\n",
       "      <td>2007-05-01</td>\n",
       "      <td>NaN</td>\n",
       "      <td>2006</td>\n",
       "      <td>2007</td>\n",
       "      <td>14</td>\n",
       "    </tr>\n",
       "    <tr>\n",
       "      <th>2</th>\n",
       "      <td>65c656cd-a7a5-4a0e-8bb2-9272ee9df713</td>\n",
       "      <td>2006-03-25</td>\n",
       "      <td>NaN</td>\n",
       "      <td>NaN</td>\n",
       "      <td>hispanic</td>\n",
       "      <td>puerto_rican</td>\n",
       "      <td>F</td>\n",
       "      <td>Somerville</td>\n",
       "      <td>232350006</td>\n",
       "      <td>House dust mite allergy</td>\n",
       "      <td>2007-05-01</td>\n",
       "      <td>NaN</td>\n",
       "      <td>2006</td>\n",
       "      <td>2007</td>\n",
       "      <td>14</td>\n",
       "    </tr>\n",
       "    <tr>\n",
       "      <th>3</th>\n",
       "      <td>65c656cd-a7a5-4a0e-8bb2-9272ee9df713</td>\n",
       "      <td>2006-03-25</td>\n",
       "      <td>NaN</td>\n",
       "      <td>NaN</td>\n",
       "      <td>hispanic</td>\n",
       "      <td>puerto_rican</td>\n",
       "      <td>F</td>\n",
       "      <td>Somerville</td>\n",
       "      <td>232347008</td>\n",
       "      <td>Dander (animal) allergy</td>\n",
       "      <td>2007-05-01</td>\n",
       "      <td>NaN</td>\n",
       "      <td>2006</td>\n",
       "      <td>2007</td>\n",
       "      <td>14</td>\n",
       "    </tr>\n",
       "    <tr>\n",
       "      <th>4</th>\n",
       "      <td>65c656cd-a7a5-4a0e-8bb2-9272ee9df713</td>\n",
       "      <td>2006-03-25</td>\n",
       "      <td>NaN</td>\n",
       "      <td>NaN</td>\n",
       "      <td>hispanic</td>\n",
       "      <td>puerto_rican</td>\n",
       "      <td>F</td>\n",
       "      <td>Somerville</td>\n",
       "      <td>418689008</td>\n",
       "      <td>Allergy to grass pollen</td>\n",
       "      <td>2007-05-01</td>\n",
       "      <td>NaN</td>\n",
       "      <td>2006</td>\n",
       "      <td>2007</td>\n",
       "      <td>14</td>\n",
       "    </tr>\n",
       "  </tbody>\n",
       "</table>\n",
       "</div>"
      ],
      "text/plain": [
       "                                     Id   BIRTHDATE DEATHDATE MARITAL  \\\n",
       "0  65c656cd-a7a5-4a0e-8bb2-9272ee9df713  2006-03-25       NaN     NaN   \n",
       "1  65c656cd-a7a5-4a0e-8bb2-9272ee9df713  2006-03-25       NaN     NaN   \n",
       "2  65c656cd-a7a5-4a0e-8bb2-9272ee9df713  2006-03-25       NaN     NaN   \n",
       "3  65c656cd-a7a5-4a0e-8bb2-9272ee9df713  2006-03-25       NaN     NaN   \n",
       "4  65c656cd-a7a5-4a0e-8bb2-9272ee9df713  2006-03-25       NaN     NaN   \n",
       "\n",
       "       RACE     ETHNICITY GENDER        CITY       CODE  \\\n",
       "0  hispanic  puerto_rican      F  Somerville  424213003   \n",
       "1  hispanic  puerto_rican      F  Somerville  419474003   \n",
       "2  hispanic  puerto_rican      F  Somerville  232350006   \n",
       "3  hispanic  puerto_rican      F  Somerville  232347008   \n",
       "4  hispanic  puerto_rican      F  Somerville  418689008   \n",
       "\n",
       "               DESCRIPTION       START STOP  BIRTHDATE_YEAR  START_YEAR  \\\n",
       "0     Allergy to bee venom  2007-05-01  NaN            2006        2007   \n",
       "1         Allergy to mould  2007-05-01  NaN            2006        2007   \n",
       "2  House dust mite allergy  2007-05-01  NaN            2006        2007   \n",
       "3  Dander (animal) allergy  2007-05-01  NaN            2006        2007   \n",
       "4  Allergy to grass pollen  2007-05-01  NaN            2006        2007   \n",
       "\n",
       "   MONTHS_ALLERGY_START  \n",
       "0                    14  \n",
       "1                    14  \n",
       "2                    14  \n",
       "3                    14  \n",
       "4                    14  "
      ]
     },
     "execution_count": 9,
     "metadata": {},
     "output_type": "execute_result"
    }
   ],
   "source": [
    "def month_difference(lower, upper):\n",
    "  months_upper = int(upper[:4])*12 + int(upper[5:7])\n",
    "  months_lower = int(lower[:4])*12 + int(lower[5:7])\n",
    "  return months_upper - months_lower\n",
    "\n",
    "data_raw['MONTHS_ALLERGY_START'] = data_raw[['START','BIRTHDATE']].apply(lambda x: month_difference(x['BIRTHDATE'], x['START']), axis = 1)\n",
    "data_raw.head()"
   ]
  },
  {
   "cell_type": "markdown",
   "metadata": {},
   "source": [
    "Plot the frequency of the months of allergy start"
   ]
  },
  {
   "cell_type": "code",
   "execution_count": 10,
   "metadata": {},
   "outputs": [
    {
     "data": {
      "text/plain": [
       "<matplotlib.axes._subplots.AxesSubplot at 0x2ed1799e4a8>"
      ]
     },
     "execution_count": 10,
     "metadata": {},
     "output_type": "execute_result"
    },
    {
     "data": {
      "image/png": "[encoded data removed]",
      "text/plain": [
       "<Figure size 432x288 with 1 Axes>"
      ]
     },
     "metadata": {
      "needs_background": "light"
     },
     "output_type": "display_data"
    }
   ],
   "source": [
    "data_raw['MONTHS_ALLERGY_START'].value_counts().plot(kind='bar')"
   ]
  },
  {
   "cell_type": "markdown",
   "metadata": {},
   "source": [
    "Plot the distribution of the data"
   ]
  },
  {
   "cell_type": "code",
   "execution_count": 11,
   "metadata": {},
   "outputs": [
    {
     "data": {
      "text/plain": [
       "<matplotlib.axes._subplots.AxesSubplot at 0x2ed17a91ac8>"
      ]
     },
     "execution_count": 11,
     "metadata": {},
     "output_type": "execute_result"
    },
    {
     "data": {
      "image/png": "[encoded data removed]",
      "text/plain": [
       "<Figure size 432x288 with 1 Axes>"
      ]
     },
     "metadata": {
      "needs_background": "light"
     },
     "output_type": "display_data"
    }
   ],
   "source": [
    "data_raw['MONTHS_ALLERGY_START'].value_counts().hist(bins = 8)"
   ]
  },
  {
   "cell_type": "markdown",
   "metadata": {},
   "source": [
    "We can see that most of the cases of allegies started in the first 12 months, this is an impotant information for health care system/parents to take special care of babies in these months"
   ]
  },
  {
   "cell_type": "code",
   "execution_count": 12,
   "metadata": {},
   "outputs": [],
   "source": [
    "data_raw_M = data_raw[data_raw['GENDER'] == 'M']"
   ]
  },
  {
   "cell_type": "code",
   "execution_count": 13,
   "metadata": {},
   "outputs": [],
   "source": [
    "data_raw_F = data_raw[data_raw['GENDER'] == 'F']"
   ]
  },
  {
   "cell_type": "code",
   "execution_count": 14,
   "metadata": {},
   "outputs": [
    {
     "data": {
      "text/plain": [
       "<matplotlib.axes._subplots.AxesSubplot at 0x2ed182d5080>"
      ]
     },
     "execution_count": 14,
     "metadata": {},
     "output_type": "execute_result"
    },
    {
     "data": {
      "image/png": "[encoded data removed]",
      "text/plain": [
       "<Figure size 432x288 with 1 Axes>"
      ]
     },
     "metadata": {
      "needs_background": "light"
     },
     "output_type": "display_data"
    }
   ],
   "source": [
    "data_raw_F['MONTHS_ALLERGY_START'].value_counts().hist(bins = 8)"
   ]
  },
  {
   "cell_type": "code",
   "execution_count": 15,
   "metadata": {},
   "outputs": [
    {
     "data": {
      "text/plain": [
       "<matplotlib.axes._subplots.AxesSubplot at 0x2ed185d12e8>"
      ]
     },
     "execution_count": 15,
     "metadata": {},
     "output_type": "execute_result"
    },
    {
     "data": {
      "image/png": "[encoded data removed]",
      "text/plain": [
       "<Figure size 432x288 with 1 Axes>"
      ]
     },
     "metadata": {
      "needs_background": "light"
     },
     "output_type": "display_data"
    }
   ],
   "source": [
    "data_raw_M['MONTHS_ALLERGY_START'].value_counts().hist(bins = 8)"
   ]
  },
  {
   "cell_type": "code",
   "execution_count": 16,
   "metadata": {},
   "outputs": [
    {
     "data": {
      "text/plain": [
       "<matplotlib.axes._subplots.AxesSubplot at 0x2ed182d5da0>"
      ]
     },
     "execution_count": 16,
     "metadata": {},
     "output_type": "execute_result"
    },
    {
     "data": {
      "image/png": "[encoded data removed]",
      "text/plain": [
       "<Figure size 432x288 with 1 Axes>"
      ]
     },
     "metadata": {
      "needs_background": "light"
     },
     "output_type": "display_data"
    }
   ],
   "source": [
    "data_raw_1 = data_raw[data_raw['ETHNICITY'] == 'puerto_rican']\n",
    "data_raw_1['MONTHS_ALLERGY_START'].value_counts().hist(bins = 8)"
   ]
  },
  {
   "cell_type": "code",
   "execution_count": 17,
   "metadata": {},
   "outputs": [
    {
     "data": {
      "text/plain": [
       "<matplotlib.axes._subplots.AxesSubplot at 0x2ed18866470>"
      ]
     },
     "execution_count": 17,
     "metadata": {},
     "output_type": "execute_result"
    },
    {
     "data": {
      "image/png": "[encoded data removed]",
      "text/plain": [
       "<Figure size 432x288 with 1 Axes>"
      ]
     },
     "metadata": {
      "needs_background": "light"
     },
     "output_type": "display_data"
    }
   ],
   "source": [
    "data_raw_2 = data_raw[data_raw['ETHNICITY'] == 'french']\n",
    "data_raw_2['MONTHS_ALLERGY_START'].value_counts().hist(bins = 8)"
   ]
  },
  {
   "cell_type": "code",
   "execution_count": null,
   "metadata": {},
   "outputs": [],
   "source": []
  }
 ],
 "metadata": {
  "file_extension": ".py",
  "kernelspec": {
   "display_name": "Python 3",
   "language": "python",
   "name": "python3"
  },
  "language_info": {
   "codemirror_mode": {
    "name": "ipython",
    "version": 3
   },
   "file_extension": ".py",
   "mimetype": "text/x-python",
   "name": "python",
   "nbconvert_exporter": "python",
   "pygments_lexer": "ipython3",
   "version": "3.7.1"
  },
  "mimetype": "text/x-python",
  "name": "python",
  "npconvert_exporter": "python",
  "pygments_lexer": "ipython3",
  "version": 3
 },
 "nbformat": 4,
 "nbformat_minor": 2
}
