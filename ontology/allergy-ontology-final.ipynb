{
 "cells": [
  {
   "cell_type": "code",
   "execution_count": null,
   "metadata": {},
   "outputs": [],
   "source": [
    "#To find all class-containing ontology graphs \n",
    "#Max Rows by default: 10 (this can be changed)\n",
    "%endpoint http://sparql.bioontology.org/sparql\n",
    "%display table\n",
    "%qparam apikey fernando\n",
    "\n",
    "%show all"
   ]
  },
  {
   "cell_type": "markdown",
   "metadata": {},
   "source": [
    "### Alergias"
   ]
  },
  {
   "cell_type": "code",
   "execution_count": null,
   "metadata": {},
   "outputs": [],
   "source": [
    "%endpoint http://sparql.bioontology.org/sparql\n",
    "%display table\n",
    "# %format json\n",
    "%qparam apikey fernando\n",
    "%qparam soft-limit -1\n",
    "\n",
    "%show all\n",
    "\n",
    "PREFIX rdfs: <http://www.w3.org/2000/01/rdf-schema#>\n",
    "PREFIX snomed-term: <http://purl.bioontology.org/ontology/SNOMEDCT/>\n",
    "PREFIX skos: <http://www.w3.org/2004/02/skos/core#>\n",
    "PREFIX food: <http://data.lirmm.fr/ontologies/food#>\n",
    "\n",
    "SELECT DISTINCT ?allergy_label ?allergy ?allergen ?allergen_label\n",
    "WHERE\n",
    "{\n",
    "        ?allergy rdfs:subClassOf ?a .\n",
    "        ?allergy snomed-term:has_causative_agent ?allergen .\n",
    "        ?allergy skos:prefLabel ?allergy_label .\n",
    "        ?allergen skos:prefLabel ?allergen_label.\n",
    "    filter regex(lcase(str(?allergy_label)), 'llerg')\n",
    "}"
   ]
  },
  {
   "cell_type": "markdown",
   "metadata": {},
   "source": [
    "### Alimentos"
   ]
  },
  {
   "cell_type": "code",
   "execution_count": null,
   "metadata": {},
   "outputs": [],
   "source": [
    "%endpoint http://localhost:8890/sparql\n",
    "# %display raw\n",
    "%format json\n",
    "%qparam soft-limit -1\n",
    "\n",
    "%show all\n",
    "PREFIX food: <http://data.lirmm.fr/ontologies/food#>\n",
    "PREFIX dbo: <http://dbpedia.org/ontology/>\n",
    "PREFIX owl: <http://www.w3.org/2002/07/owl#>\n",
    "PREFIX dbpedia: <http://dbpedia.org/ontology/> \n",
    "\n",
    "SELECT ?name ?ingredients\n",
    "WHERE {\n",
    "        ?product food:IngredientListAsText ?ingredients .\n",
    "        ?product food:name ?name .\n",
    "        minus {?product food:IngredientListAsText \"\"}\n",
    "}"
   ]
  },
  {
   "cell_type": "markdown",
   "metadata": {},
   "source": [
    "### Medicamentos"
   ]
  },
  {
   "cell_type": "code",
   "execution_count": null,
   "metadata": {},
   "outputs": [],
   "source": [
    "%endpoint http://sparql.bioontology.org/sparql\n",
    "%display table\n",
    "%qparam apikey fernando\n",
    "%qparam soft-limit -1\n",
    "\n",
    "%show all\n",
    "\n",
    "PREFIX rdfs: <http://www.w3.org/2000/01/rdf-schema#>\n",
    "PREFIX snomed-term: <http://purl.bioontology.org/ontology/SNOMEDCT/>\n",
    "PREFIX skos: <http://www.w3.org/2004/02/skos/core#>\n",
    "PREFIX food: <http://data.lirmm.fr/ontologies/food#>\n",
    "\n",
    "SELECT DISTINCT ?super_substance_label ?substance ?substance_label\n",
    "WHERE \n",
    "{\n",
    "    {\n",
    "        ?substance rdfs:subClassOf snomed-term:105590001 .\n",
    "        snomed-term:105590001 skos:prefLabel ?super_substance_label .\n",
    "        ?substance skos:altLabel ?substance_label.\n",
    "    }\n",
    "    union\n",
    "    {\n",
    "        ?a rdfs:subClassOf snomed-term:105590001 . \n",
    "        ?substance rdfs:subClassOf ?a.      \n",
    "        ?a skos:prefLabel ?super_substance_label .\n",
    "        ?substance skos:altLabel ?substance_label.\n",
    "    }\n",
    "    union\n",
    "    {\n",
    "        ?a rdfs:subClassOf snomed-term:105590001 . \n",
    "        ?b rdfs:subClassOf ?a .\n",
    "        ?substance rdfs:subClassOf ?b .\n",
    "        ?b skos:prefLabel ?super_substance_label .\n",
    "        ?substance skos:altLabel ?substance_label.\n",
    "    }\n",
    "    union\n",
    "    {\n",
    "        ?a rdfs:subClassOf snomed-term:105590001 .\n",
    "        ?b rdfs:subClassOf ?a .\n",
    "        ?c rdfs:subClassOf ?b .\n",
    "        ?substance rdfs:subClassOf ?c .\n",
    "        ?c skos:prefLabel ?super_substance_label .\n",
    "        ?substance skos:altLabel ?substance_label.\n",
    "    }\n",
    "    union\n",
    "    {\n",
    "        ?a rdfs:subClassOf snomed-term:105590001 .\n",
    "        ?b rdfs:subClassOf ?a .\n",
    "        ?c rdfs:subClassOf ?b .\n",
    "        ?d rdfs:subClassOf ?c .\n",
    "        ?substance rdfs:subClassOf ?d .\n",
    "        ?d skos:prefLabel ?super_substance_label .\n",
    "        ?substance skos:altLabel ?substance_label.\n",
    "    }\n",
    "    union\n",
    "    {\n",
    "        ?a rdfs:subClassOf snomed-term:105590001 .\n",
    "        ?b rdfs:subClassOf ?a .\n",
    "        ?c rdfs:subClassOf ?b .\n",
    "        ?d rdfs:subClassOf ?c .\n",
    "        ?e rdfs:subClassOf ?d .\n",
    "        ?substance rdfs:subClassOf ?e .\n",
    "        ?e skos:prefLabel ?super_substance_label .\n",
    "        ?substance skos:altLabel ?substance_label.\n",
    "    }\n",
    "    union\n",
    "    {\n",
    "        ?a rdfs:subClassOf snomed-term:105590001 .\n",
    "        ?b rdfs:subClassOf ?a .\n",
    "        ?c rdfs:subClassOf ?b .\n",
    "        ?d rdfs:subClassOf ?c .\n",
    "        ?e rdfs:subClassOf ?d .\n",
    "        ?f rdfs:subClassOf ?e .\n",
    "        ?substance rdfs:subClassOf ?f .\n",
    "        ?f skos:prefLabel ?super_substance_label .\n",
    "        ?substance skos:altLabel ?substance_label.\n",
    "    }\n",
    "    FILTER (regex(lcase(str(?substance_label)), \"penicillin\") || regex(lcase(str(?substance_label)), \"paracetamol\"))\n",
    "} limit 1000"
   ]
  }
 ],
 "metadata": {
  "kernelspec": {
   "display_name": "SPARQL",
   "language": "sparql",
   "name": "sparql"
  },
  "language_info": {
   "codemirror_mode": {
    "name": "sparql"
   },
   "mimetype": "application/sparql-query",
   "name": "sparql",
   "pygments_lexer": "sparql-nb"
  }
 },
 "nbformat": 4,
 "nbformat_minor": 2
}
