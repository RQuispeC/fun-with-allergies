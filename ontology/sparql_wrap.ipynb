{
 "cells": [
  {
   "cell_type": "code",
   "execution_count": 3,
   "metadata": {},
   "outputs": [],
   "source": [
    "from SPARQLWrapper import SPARQLWrapper, JSON\n",
    "import re\n",
    "import nltk\n",
    "from nltk import wordnet as wn\n",
    "from nltk.stem import *\n",
    "try:\n",
    "    words = set(nltk.corpus.words.words())\n",
    "except LookupError:\n",
    "    nltk.download()\n",
    "    words = set(nltk.corpus.words.words())"
   ]
  },
  {
   "cell_type": "code",
   "execution_count": 4,
   "metadata": {},
   "outputs": [],
   "source": [
    "def query_allergies():\n",
    "    \n",
    "    api_key='fernando'\n",
    "    sparql = SPARQLWrapper(\"http://sparql.bioontology.org/sparql\")\n",
    "    sparql.addCustomParameter(\"apikey\", api_key)\n",
    "    sparql.addCustomParameter(\"soft-limit\", \"-1\")\n",
    "    sparql.setQuery(\"\"\"\n",
    "        PREFIX rdfs: <http://www.w3.org/2000/01/rdf-schema#>\n",
    "        PREFIX snomed-term: <http://purl.bioontology.org/ontology/SNOMEDCT/>\n",
    "        PREFIX skos: <http://www.w3.org/2004/02/skos/core#>\n",
    "        PREFIX food: <http://data.lirmm.fr/ontologies/food#>\n",
    "\n",
    "        SELECT DISTINCT ?allergy_label ?allergy ?allergen ?allergen_label\n",
    "        WHERE\n",
    "        {\n",
    "            {\n",
    "                ?allergy rdfs:subClassOf ?a .\n",
    "                ?allergy snomed-term:has_causative_agent ?allergen .\n",
    "                ?allergy skos:altLabel ?allergy_label .\n",
    "                ?allergen skos:altLabel ?allergen_label.\n",
    "                filter regex(lcase(str(?allergy_label)), 'llerg').\n",
    "            }\n",
    "        }\n",
    "    \"\"\")\n",
    "    sparql.setReturnFormat(JSON)\n",
    "    results_allergies = sparql.query().convert()\n",
    "    return results_allergies"
   ]
  },
  {
   "cell_type": "code",
   "execution_count": 6,
   "metadata": {},
   "outputs": [],
   "source": [
    "all_allergens = set()\n",
    "all_allergies = query_allergies()\n",
    "for allergy in all_allergies['results']['bindings']:\n",
    "    all_allergens.add(allergy['allergen_label']['value'].lower())\n",
    "del(allergy)"
   ]
  },
  {
   "cell_type": "code",
   "execution_count": 7,
   "metadata": {},
   "outputs": [],
   "source": [
    "def query_drugs(drug):\n",
    "    \n",
    "    api_key='fernando'\n",
    "    sparql = SPARQLWrapper(\"http://sparql.bioontology.org/sparql\")\n",
    "    sparql.addCustomParameter(\"apikey\", api_key)\n",
    "    sparql.addCustomParameter(\"soft-limit\", \"-1\")\n",
    "    sparql.setQuery(\"\"\"\n",
    "        PREFIX rdfs: <http://www.w3.org/2000/01/rdf-schema#>\n",
    "        PREFIX snomed-term: <http://purl.bioontology.org/ontology/SNOMEDCT/>\n",
    "        PREFIX skos: <http://www.w3.org/2004/02/skos/core#>\n",
    "        PREFIX food: <http://data.lirmm.fr/ontologies/food#>\n",
    "\n",
    "        SELECT DISTINCT ?super_substance_label ?substance ?substance_label\n",
    "        WHERE \n",
    "        {\n",
    "            {\n",
    "                ?substance rdfs:subClassOf snomed-term:105590001 .\n",
    "                snomed-term:105590001 skos:prefLabel ?super_substance_label .\n",
    "                ?substance skos:altLabel ?substance_label.\n",
    "            }\n",
    "            union\n",
    "            {\n",
    "                ?a rdfs:subClassOf snomed-term:105590001 . \n",
    "                ?substance rdfs:subClassOf ?a.      \n",
    "                ?a skos:prefLabel ?super_substance_label .\n",
    "                ?substance skos:altLabel ?substance_label.\n",
    "            }\n",
    "            union\n",
    "            {\n",
    "                ?a rdfs:subClassOf snomed-term:105590001 . \n",
    "                ?b rdfs:subClassOf ?a .\n",
    "                ?substance rdfs:subClassOf ?b .\n",
    "                ?b skos:prefLabel ?super_substance_label .\n",
    "                ?substance skos:altLabel ?substance_label.\n",
    "            }\n",
    "            union\n",
    "            {\n",
    "                ?a rdfs:subClassOf snomed-term:105590001 .\n",
    "                ?b rdfs:subClassOf ?a .\n",
    "                ?c rdfs:subClassOf ?b .\n",
    "                ?substance rdfs:subClassOf ?c .\n",
    "                ?c skos:prefLabel ?super_substance_label .\n",
    "                ?substance skos:altLabel ?substance_label.\n",
    "            }\n",
    "            union\n",
    "            {\n",
    "                ?a rdfs:subClassOf snomed-term:105590001 .\n",
    "                ?b rdfs:subClassOf ?a .\n",
    "                ?c rdfs:subClassOf ?b .\n",
    "                ?d rdfs:subClassOf ?c .\n",
    "                ?substance rdfs:subClassOf ?d .\n",
    "                ?d skos:prefLabel ?super_substance_label .\n",
    "                ?substance skos:altLabel ?substance_label.\n",
    "            }\n",
    "            union\n",
    "            {\n",
    "                ?a rdfs:subClassOf snomed-term:105590001 .\n",
    "                ?b rdfs:subClassOf ?a .\n",
    "                ?c rdfs:subClassOf ?b .\n",
    "                ?d rdfs:subClassOf ?c .\n",
    "                ?e rdfs:subClassOf ?d .\n",
    "                ?substance rdfs:subClassOf ?e .\n",
    "                ?e skos:prefLabel ?super_substance_label .\n",
    "                ?substance skos:altLabel ?substance_label.\n",
    "            }\n",
    "            union\n",
    "            {\n",
    "                ?a rdfs:subClassOf snomed-term:105590001 .\n",
    "                ?b rdfs:subClassOf ?a .\n",
    "                ?c rdfs:subClassOf ?b .\n",
    "                ?d rdfs:subClassOf ?c .\n",
    "                ?e rdfs:subClassOf ?d .\n",
    "                ?f rdfs:subClassOf ?e .\n",
    "                ?substance rdfs:subClassOf ?f .\n",
    "                ?f skos:prefLabel ?super_substance_label .\n",
    "                ?substance skos:altLabel ?substance_label.\n",
    "            }\n",
    "            FILTER (regex(lcase(str(?substance_label)), '%s'))\n",
    "        }\n",
    "    \"\"\" % drug)\n",
    "    sparql.setReturnFormat(JSON)\n",
    "    results_drugs = sparql.query().convert()\n",
    "    return results_drugs"
   ]
  },
  {
   "cell_type": "code",
   "execution_count": 8,
   "metadata": {},
   "outputs": [],
   "source": [
    "def query_ingredient(ingredient):\n",
    "    \n",
    "    sparql = SPARQLWrapper(\"http://localhost:8890/sparql\")\n",
    "    sparql.setQuery(\"\"\"\n",
    "        PREFIX food: <http://data.lirmm.fr/ontologies/food#>\n",
    "        PREFIX owl: <http://www.w3.org/2002/07/owl#>\n",
    "\n",
    "        SELECT ?name ?ingredients\n",
    "        WHERE {\n",
    "                ?product food:IngredientListAsText ?ingredients .\n",
    "                ?product food:name ?name .\n",
    "                FILTER regex(str(lcase(?ingredients)), '%s')\n",
    "        }\n",
    "    \"\"\" % ingredient.lower())\n",
    "    sparql.setReturnFormat(JSON)\n",
    "    results_food = sparql.query().convert()\n",
    "    return results_food\n"
   ]
  },
  {
   "cell_type": "code",
   "execution_count": 9,
   "metadata": {},
   "outputs": [],
   "source": [
    "def query_dish(dish_name):\n",
    "    \n",
    "    sparql = SPARQLWrapper(\"http://localhost:8890/sparql\")\n",
    "    sparql.setQuery(\"\"\"\n",
    "        PREFIX food: <http://data.lirmm.fr/ontologies/food#>\n",
    "        PREFIX owl: <http://www.w3.org/2002/07/owl#>\n",
    "\n",
    "        SELECT ?name ?ingredients\n",
    "        WHERE {\n",
    "                ?product food:IngredientListAsText ?ingredients .\n",
    "                ?product food:name ?name .\n",
    "                FILTER regex(str(lcase(?name)), '%s')\n",
    "        }\n",
    "    \"\"\" % dish_name)\n",
    "    sparql.setReturnFormat(JSON)\n",
    "    results_food = sparql.query().convert()\n",
    "    return results_food"
   ]
  },
  {
   "cell_type": "code",
   "execution_count": 10,
   "metadata": {},
   "outputs": [],
   "source": [
    "def parse_ingredients(results_ingredient):\n",
    "    \n",
    "    ingredients_list = results_ingredient['results']['bindings']\n",
    "    ingredients = set()\n",
    "    \n",
    "    for i in ingredients_list:\n",
    "        i['ingredients']['value'] = re.sub(r\"[^a-zA-Z0-9(),; ]+\", '', i['ingredients']['value'])\n",
    "        for j in i['ingredients']['value'].replace(';', ',').replace('(',',').replace(')',',').split(','):\n",
    "            if len(j.replace(' ', '')) > 2 and re.sub('[0-9 ]+[oz]*', '', j):\n",
    "                if any(item in words for item in j.lower().split(' ')):\n",
    "                    ingredients.add(j.lower().lstrip().rstrip())\n",
    "    try:\n",
    "        ingredients.remove('')\n",
    "    except:\n",
    "        pass\n",
    "    try:\n",
    "        ingredients.remove('.')\n",
    "    except:\n",
    "        pass\n",
    "    return ingredients"
   ]
  },
  {
   "cell_type": "code",
   "execution_count": 11,
   "metadata": {},
   "outputs": [],
   "source": [
    "def parse_dish(results_ingredient):\n",
    "    \n",
    "    ingredients_list = results_ingredient['results']['bindings']\n",
    "    ingredients = set()\n",
    "    \n",
    "    for i in ingredients_list:\n",
    "        i['name']['value'] = re.sub(r\"[^a-zA-Z0-9(),; ]+\", '', i['name']['value'])\n",
    "        for j in i['name']['value'].replace(';', ',').replace('(',',').replace(')',',').split(','):\n",
    "            if len(j.replace(' ', '')) > 2 and re.sub('[0-9 ]+[oz]*', '', j):\n",
    "                ingredients.add(j.lower().lstrip().rstrip())\n",
    "    try:\n",
    "        ingredients.remove('')\n",
    "    except:\n",
    "        pass\n",
    "    try:\n",
    "        ingredients.remove('.')\n",
    "    except:\n",
    "        pass\n",
    "    return ingredients"
   ]
  },
  {
   "cell_type": "code",
   "execution_count": 12,
   "metadata": {},
   "outputs": [],
   "source": [
    "def possible_allergens(ingredients):\n",
    "    \n",
    "    print('{:<10}\\t{:<25}\\t{:<20}\\n'.format('Ingredient', 'Allergen', 'Allergy'))\n",
    "    for i in ingredients:\n",
    "        for allergy in all_allergies['results']['bindings']:\n",
    "            if i.lower() in allergy['allergen_label']['value'].lower():\n",
    "                print('{:<10}\\t{:<25}\\t{:<20}'.format(i.lower(), allergy['allergen_label']['value'].lower(), allergy['allergy_label']['value'].lower()))"
   ]
  },
  {
   "cell_type": "code",
   "execution_count": 13,
   "metadata": {},
   "outputs": [
    {
     "data": {
      "text/plain": [
       "3811"
      ]
     },
     "execution_count": 13,
     "metadata": {},
     "output_type": "execute_result"
    }
   ],
   "source": [
    "len(all_allergies['results']['bindings'])"
   ]
  },
  {
   "cell_type": "markdown",
   "metadata": {},
   "source": [
    "### Testing some dishes, ingredients and checking allergens"
   ]
  },
  {
   "cell_type": "code",
   "execution_count": 14,
   "metadata": {},
   "outputs": [
    {
     "name": "stdout",
     "output_type": "stream",
     "text": [
      "caldo soup kit\n",
      "nona lim\n",
      "papaya curry sauce\n",
      "tropical pepper co\n",
      "mexican stir fry\n",
      "spicy rice soup\n"
     ]
    }
   ],
   "source": [
    "results_ingredient = query_ingredient('chayote')\n",
    "for i in parse_dish(results_ingredient):\n",
    "    print(i)"
   ]
  },
  {
   "cell_type": "code",
   "execution_count": 15,
   "metadata": {},
   "outputs": [
    {
     "name": "stdout",
     "output_type": "stream",
     "text": [
      "Ingredient\tAllergen                 \tAllergy             \n",
      "\n",
      "flavoring \tflavoring agent (substance)\tallergy to flavour  \n",
      "flavoring \tflavoring agent (substance)\tallergy to flavor (disorder)\n",
      "shrimp    \tshrimp                   \tallergy to shrimp (disorder)\n",
      "shrimp    \tshrimp agent (substance) \tallergy to shrimp (disorder)\n",
      "shrimp    \tshrimp agent             \tallergy to shrimp (disorder)\n",
      "shrimp    \tshrimp product (substance)\tallergy to shrimp (disorder)\n",
      "peanut oil\tpeanut oil               \tarachis oil allergy (disorder)\n",
      "salt      \tborate salt (substance)  \tborate allergy (disorder)\n",
      "salt      \tepsom salt               \tmagnesium sulphate allergy\n",
      "salt      \tferrous salt agent (substance)\tferrous salt allergy (disorder)\n",
      "salt      \tepsom salt               \tmagnesium sulfate allergy (disorder)\n",
      "extract   \tallergen extract vaccine (substance)\tallergen extract vaccine allergy (disorder)\n",
      "extract   \tallergen extract vaccine (substance)\tallergen extract vaccine poisoning of undetermined intent (disorder)\n",
      "extract   \tallergen extract vaccine (substance)\taccidental allergen extract vaccine poisoning (disorder)\n",
      "extract   \tallergen extract vaccine (substance)\tallergen extract vaccine poisoning (disorder)\n",
      "extract   \tallergen extract vaccine (substance)\taccidental allergen extract vaccine poisoning (event)\n",
      "extract   \tmodified calf lung surfactant extract\tberactant allergy (disorder)\n",
      "extract   \tallergen extract vaccine (substance)\tintentional allergen extract vaccine poisoning (event)\n",
      "extract   \tallergen extract vaccine (substance)\tallergen extract vaccine adverse reaction (disorder)\n",
      "extract   \tallergen extract vaccine (substance)\tintentional allergen extract vaccine poisoning (disorder)\n",
      "cinnamon  \tcinnamon (substance)     \tallergy to cinnamon (disorder)\n",
      "potato    \twhite potato             \tallergy to potato (disorder)\n",
      "potato    \tpotato - dietary (substance)\tallergy to potato (disorder)\n",
      "potato    \tpotato                   \tallergy to potato (disorder)\n",
      "guar gum  \tguar gum (substance)     \tguar gum allergy (disorder)\n",
      "acetic acid\tacetic acid (substance)  \tacetic acid allergy (disorder)\n",
      "acetic acid\tacetic acid - chemical   \tacetic acid allergy (disorder)\n",
      "peanut    \tpeanut                   \tallergy to peanuts (disorder)\n",
      "peanut    \tpeanut - dietary (substance)\tallergy to peanuts (disorder)\n",
      "peanut    \tpeanuts                  \tallergy to peanuts (disorder)\n",
      "peanut    \tpeanut oil               \tarachis oil allergy (disorder)\n",
      "oyster    \toyster - dietary (substance)\tallergy to oyster (disorder)\n",
      "starch    \tpentastarch (substance)  \tpentastarch allergy (disorder)\n",
      "starch    \thydroxyethyl starch      \thetastarch allergy (disorder)\n",
      "starch    \thetastarch (substance)   \thetastarch allergy (disorder)\n",
      "gelatin   \tgelatin (substance)      \tgelatin allergy (disorder)\n",
      "colour    \tdecolourising carbon     \tcharcoal-activated allergy (disorder)\n",
      "water     \twater-soluble vitamin (substance)\twater soluble vitamin allergy (disorder)\n",
      "water     \twater-soluble vitamin, nos\twater soluble vitamin allergy (disorder)\n",
      "water     \twater soluble vitamin    \twater soluble vitamin allergy (disorder)\n",
      "water     \twatermelon (substance)   \tallergy to watermelon (disorder)\n",
      "pectin    \tspectinomycin (substance)\tspectinomycin allergy (disorder)\n",
      "tomato    \ttomato - dietary (substance)\tallergy to tomato (disorder)\n",
      "tomato    \ttomato                   \tallergy to tomato (disorder)\n",
      "carrot    \tcarrot (substance)       \tallergy to carrot (disorder)\n",
      "color     \tdecolorizing carbon      \tcharcoal-activated allergy (disorder)\n",
      "wheat     \twheat (substance)        \tallergy to wheat (disorder)\n",
      "clove     \tdicycloverine            \tdicyclomine allergy (disorder)\n",
      "clove     \tdicycloverine            \tdicyclomine allergy \n",
      "lime      \talimemazine              \ttrimeprazine allergy (disorder)\n",
      "lime      \talimemazine              \ttrimeprazine allergy\n",
      "lime      \talimemazine              \trimeprazine allergy \n",
      "pepper    \tpeppermint oil (substance)\tpeppermint oil allergy (disorder)\n",
      "rice      \tvaricella-zoster virus antibody (substance)\tvaricella-zoster immunoglobulin allergy (disorder)\n",
      "rice      \tvaricella zoster virus immunoglobulin\tvaricella-zoster immunoglobulin allergy (disorder)\n",
      "rice      \tliquorice (substance)    \tliquorice allergy (disorder)\n",
      "corn      \tdihydroergocornine (substance)\tco-dergocrine allergy (disorder)\n",
      "corn      \tcorn (substance)         \tallergy to corn (disorder)\n",
      "flour     \tflour dust (substance)   \tallergic reaction to flour dust (disorder)\n",
      "alcohol   \talcohol metabolism modifier (substance)\talcohol metabolism modifier allergy (disorder)\n",
      "alcohol   \tethyl alcohol (substance)\tallergy to alcohol  \n",
      "alcohol   \tetoh - alcohol           \tallergy to alcohol  \n",
      "alcohol   \tethyl alcohol (substance)\tallergy to ethyl alcohol\n",
      "alcohol   \tetoh - alcohol           \tallergy to ethyl alcohol\n",
      "alcohol   \twool alcohols (substance)\twool alcohol allergy (disorder)\n",
      "alcohol   \talcohol disinfectant (substance)\talcoholic disinfectant allergy (disorder)\n",
      "alcohol   \talcohol agent (substance)\talcohol products allergy (disorder)\n",
      "alcohol   \tpva - polyvinyl alcohol  \tpolyvinyl alcohol allergy (disorder)\n",
      "alcohol   \tpolyvinyl alcohol (substance)\tpolyvinyl alcohol allergy (disorder)\n",
      "alcohol   \tnicotinyl alcohol (substance)\tnicotinyl alcohol allergy (disorder)\n",
      "alcohol   \tethyl alcohol (substance)\tallergy to ethyl alcohol (disorder)\n",
      "alcohol   \tetoh - alcohol           \tallergy to ethyl alcohol (disorder)\n"
     ]
    }
   ],
   "source": [
    "results_dish = query_dish('pad thai')\n",
    "all_ingredients= parse_ingredients(results_dish)\n",
    "possible_allergens(all_ingredients)"
   ]
  },
  {
   "cell_type": "markdown",
   "metadata": {},
   "source": [
    "### Listing allergies to a drug (which can in fact be done with any substance)"
   ]
  },
  {
   "cell_type": "code",
   "execution_count": 16,
   "metadata": {},
   "outputs": [
    {
     "name": "stdout",
     "output_type": "stream",
     "text": [
      "Ingredient\tAllergen                 \tAllergy             \n",
      "\n",
      "paracetamol\tparacetamol              \tparacetamol and dextropropoxyphene allergy\n",
      "paracetamol\tparacetamol              \tparacetamol allergy (disorder)\n",
      "paracetamol\tparacetamol              \tparacetamol and dextropropoxyphene allergy (disorder)\n",
      "paracetamol\tparacetamol              \tparacetamol allergy \n",
      "paracetamol\tparacetamol              \tacetaminophen allergy (disorder)\n",
      "paracetamol\tparacetamol              \tacetaminophen and dextropropoxyphene allergy (disorder)\n"
     ]
    }
   ],
   "source": [
    "drug_substances = set()\n",
    "results_drugs = query_drugs('paracetamol')\n",
    "for drug in results_drugs['results']['bindings']:\n",
    "    drug_substances.add(drug['substance_label']['value'].lower())\n",
    "possible_allergens(drug_substances)\n",
    "# print(drug_substances)"
   ]
  }
 ],
 "metadata": {
  "kernelspec": {
   "display_name": "Python 3",
   "language": "python",
   "name": "python3"
  },
  "language_info": {
   "codemirror_mode": {
    "name": "ipython",
    "version": 3
   },
   "file_extension": ".py",
   "mimetype": "text/x-python",
   "name": "python",
   "nbconvert_exporter": "python",
   "pygments_lexer": "ipython3",
   "version": "3.7.3"
  }
 },
 "nbformat": 4,
 "nbformat_minor": 2
}
