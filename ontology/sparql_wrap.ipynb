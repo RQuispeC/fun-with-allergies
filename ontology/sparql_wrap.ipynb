{
 "cells": [
  {
   "cell_type": "code",
   "execution_count": null,
   "metadata": {},
   "outputs": [],
   "source": [
    "from SPARQLWrapper import SPARQLWrapper, JSON\n",
    "import re"
   ]
  },
  {
   "cell_type": "code",
   "execution_count": null,
   "metadata": {},
   "outputs": [],
   "source": [
    "def query_allergies(allergen):\n",
    "    \n",
    "    api_key='fernando'\n",
    "    sparql = SPARQLWrapper(\"http://sparql.bioontology.org/sparql\")\n",
    "    sparql.addCustomParameter(\"apikey\", api_key)\n",
    "    sparql.setQuery(\"\"\"\n",
    "        PREFIX rdfs: <http://www.w3.org/2000/01/rdf-schema#>\n",
    "        PREFIX snomed-term: <http://purl.bioontology.org/ontology/SNOMEDCT/>\n",
    "        PREFIX skos: <http://www.w3.org/2004/02/skos/core#>\n",
    "        PREFIX food: <http://data.lirmm.fr/ontologies/food#>\n",
    "\n",
    "        SELECT DISTINCT ?allergy_label ?allergy ?allergen ?allergen_label\n",
    "        WHERE\n",
    "        {   \n",
    "            {\n",
    "                ?allergy rdfs:subClassOf snomed-term:420134006 .\n",
    "                ?allergy skos:prefLabel ?allergy_label .\n",
    "                ?allergy snomed-term:has_causative_agent ?allergen .\n",
    "                ?allergen skos:prefLabel ?allergen_label.\n",
    "            }\n",
    "            union\n",
    "            {\n",
    "                ?allergy rdfs:subClassOf ?a.\n",
    "                ?a rdfs:subClassOf snomed-term:420134006 .\n",
    "                ?allergy snomed-term:has_causative_agent ?allergen .\n",
    "                ?allergy skos:prefLabel ?allergy_label .\n",
    "                ?allergen skos:prefLabel ?allergen_label.\n",
    "            }\n",
    "            union\n",
    "            {\n",
    "                ?allergy rdfs:subClassOf ?b .\n",
    "                ?b rdfs:subClassOf ?a .\n",
    "                ?a rdfs:subClassOf snomed-term:420134006 .\n",
    "                ?allergy snomed-term:has_causative_agent ?allergen .\n",
    "                ?allergy skos:prefLabel ?allergy_label .\n",
    "                ?allergen skos:prefLabel ?allergen_label.\n",
    "            }\n",
    "            union\n",
    "            {\n",
    "                ?allergy rdfs:subClassOf ?c .\n",
    "                ?c rdfs:subClassOf ?b .\n",
    "                ?b rdfs:subClassOf ?a .\n",
    "                ?a rdfs:subClassOf snomed-term:420134006 .\n",
    "                ?allergy snomed-term:has_causative_agent ?allergen .\n",
    "                ?allergy skos:prefLabel ?allergy_label .\n",
    "                ?allergen skos:prefLabel ?allergen_label.\n",
    "            }\n",
    "            union\n",
    "            {\n",
    "                ?allergy rdfs:subClassOf ?d .\n",
    "                ?d rdfs:subClassOf ?c .\n",
    "                ?c rdfs:subClassOf ?b .\n",
    "                ?b rdfs:subClassOf ?a .\n",
    "                ?a rdfs:subClassOf snomed-term:420134006 .\n",
    "                ?allergy snomed-term:has_causative_agent ?allergen .\n",
    "                ?allergy skos:prefLabel ?allergy_label .\n",
    "                ?allergen skos:prefLabel ?allergen_label.\n",
    "            }\n",
    "            union\n",
    "            {\n",
    "                ?allergy rdfs:subClassOf ?e .\n",
    "                ?e rdfs:subClassOf ?d .\n",
    "                ?d rdfs:subClassOf ?c .\n",
    "                ?c rdfs:subClassOf ?b .\n",
    "                ?b rdfs:subClassOf ?a .\n",
    "                ?a rdfs:subClassOf snomed-term:420134006 .\n",
    "                ?allergy snomed-term:has_causative_agent ?allergen .\n",
    "                ?allergy skos:prefLabel ?allergy_label .\n",
    "                ?allergen skos:prefLabel ?allergen_label.\n",
    "            }\n",
    "            union\n",
    "            {\n",
    "                ?allergy rdfs:subClassOf ?f .\n",
    "                ?f rdfs:subClassOf ?e .\n",
    "                ?e rdfs:subClassOf ?d .\n",
    "                ?d rdfs:subClassOf ?c .\n",
    "                ?c rdfs:subClassOf ?b .\n",
    "                ?b rdfs:subClassOf ?a .\n",
    "                ?a rdfs:subClassOf snomed-term:420134006 .\n",
    "                ?allergy snomed-term:has_causative_agent ?allergen .\n",
    "                ?allergy skos:prefLabel ?allergy_label .\n",
    "                ?allergen skos:prefLabel ?allergen_label.\n",
    "            }\n",
    "            union\n",
    "            {\n",
    "                ?allergy rdfs:subClassOf ?g .\n",
    "                ?g rdfs:subClassOf ?f .\n",
    "                ?f rdfs:subClassOf ?e .\n",
    "                ?e rdfs:subClassOf ?d .\n",
    "                ?d rdfs:subClassOf ?c .\n",
    "                ?c rdfs:subClassOf ?b .\n",
    "                ?b rdfs:subClassOf ?a .\n",
    "                ?a rdfs:subClassOf snomed-term:420134006 .\n",
    "                ?allergy snomed-term:has_causative_agent ?allergen .\n",
    "                ?allergy skos:prefLabel ?allergy_label .\n",
    "                ?allergen skos:prefLabel ?allergen_label.\n",
    "            }\n",
    "            union\n",
    "            {\n",
    "                ?allergy rdfs:subClassOf ?h .\n",
    "                ?h rdfs:subClassOf ?g .\n",
    "                ?g rdfs:subClassOf ?f .\n",
    "                ?f rdfs:subClassOf ?e .\n",
    "                ?e rdfs:subClassOf ?d .\n",
    "                ?d rdfs:subClassOf ?c .\n",
    "                ?c rdfs:subClassOf ?b .\n",
    "                ?b rdfs:subClassOf ?a .\n",
    "                ?a rdfs:subClassOf snomed-term:420134006 .\n",
    "                ?allergy snomed-term:has_causative_agent ?allergen .\n",
    "                ?allergy skos:prefLabel ?allergy_label .\n",
    "                ?allergen skos:prefLabel ?allergen_label.\n",
    "            }\n",
    "            union\n",
    "            {\n",
    "                ?allergy rdfs:subClassOf ?i .\n",
    "                ?i rdfs:subClassOf ?h .\n",
    "                ?h rdfs:subClassOf ?g .\n",
    "                ?g rdfs:subClassOf ?f .\n",
    "                ?f rdfs:subClassOf ?e .\n",
    "                ?e rdfs:subClassOf ?d .\n",
    "                ?d rdfs:subClassOf ?c .\n",
    "                ?c rdfs:subClassOf ?b .\n",
    "                ?b rdfs:subClassOf ?a .\n",
    "                ?a rdfs:subClassOf snomed-term:420134006 .\n",
    "                ?allergy snomed-term:has_causative_agent ?allergen .\n",
    "                ?allergy skos:prefLabel ?allergy_label .\n",
    "                ?allergen skos:prefLabel ?allergen_label.\n",
    "            }\n",
    "            filter regex(lcase(str(?allergen_label)), '%s')\n",
    "        }\n",
    "    \"\"\" % allergen)\n",
    "    sparql.setReturnFormat(JSON)\n",
    "    results_allergies = sparql.query().convert()\n",
    "    return results_allergies"
   ]
  },
  {
   "cell_type": "code",
   "execution_count": null,
   "metadata": {},
   "outputs": [],
   "source": [
    "def query_ingredient(ingredient):\n",
    "    \n",
    "    sparql = SPARQLWrapper(\"http://localhost:8890/sparql\")\n",
    "    sparql.setQuery(\"\"\"\n",
    "        PREFIX food: <http://data.lirmm.fr/ontologies/food#>\n",
    "        PREFIX dbo: <http://dbpedia.org/ontology/>\n",
    "        PREFIX owl: <http://www.w3.org/2002/07/owl#>\n",
    "        PREFIX dbpedia: <http://dbpedia.org/ontology/> \n",
    "\n",
    "        SELECT ?name ?ingredients\n",
    "        WHERE {\n",
    "                ?product food:IngredientListAsText ?ingredients .\n",
    "                ?product food:name ?name .\n",
    "                FILTER regex(str(lcase(?ingredients)), '%s')\n",
    "        }\n",
    "    \"\"\" % ingredient.lower())\n",
    "    sparql.setReturnFormat(JSON)\n",
    "    results_food = sparql.query().convert()\n",
    "    return results_food\n"
   ]
  },
  {
   "cell_type": "code",
   "execution_count": null,
   "metadata": {},
   "outputs": [],
   "source": [
    "def query_dish(dish_name):\n",
    "    \n",
    "    sparql = SPARQLWrapper(\"http://localhost:8890/sparql\")\n",
    "    sparql.setQuery(\"\"\"\n",
    "        PREFIX food: <http://data.lirmm.fr/ontologies/food#>\n",
    "        PREFIX dbo: <http://dbpedia.org/ontology/>\n",
    "        PREFIX owl: <http://www.w3.org/2002/07/owl#>\n",
    "        PREFIX dbpedia: <http://dbpedia.org/ontology/> \n",
    "\n",
    "        SELECT ?name ?ingredients\n",
    "        WHERE {\n",
    "                ?product food:IngredientListAsText ?ingredients .\n",
    "                ?product food:name ?name .\n",
    "                FILTER regex(str(lcase(?name)), '%s')\n",
    "        }\n",
    "    \"\"\" % dish_name)\n",
    "    sparql.setReturnFormat(JSON)\n",
    "    results_food = sparql.query().convert()\n",
    "    return results_food"
   ]
  },
  {
   "cell_type": "code",
   "execution_count": null,
   "metadata": {},
   "outputs": [],
   "source": [
    "def parse_ingredients(results_ingredient):\n",
    "    \n",
    "    ingredients_list = results_ingredient['results']['bindings']\n",
    "    ingredients = set()\n",
    "    \n",
    "    for i in ingredients_list:\n",
    "        i['ingredients']['value'] = re.sub(r\"[^a-zA-Z0-9(),; ]+\", '', i['ingredients']['value'])\n",
    "        for j in i['ingredients']['value'].replace(';', ',').replace('(',',').replace(')',',').split(','):\n",
    "            if len(j.replace(' ', '')) > 2 and re.sub('[0-9 ]+[oz]*', '', j):\n",
    "                ingredients.add(j.lower().lstrip().rstrip())\n",
    "    try:\n",
    "        ingredients.remove('')\n",
    "    except:\n",
    "        pass\n",
    "    try:\n",
    "        ingredients.remove('.')\n",
    "    except:\n",
    "        pass\n",
    "    return ingredients"
   ]
  },
  {
   "cell_type": "code",
   "execution_count": null,
   "metadata": {},
   "outputs": [],
   "source": [
    "def parse_dish(results_ingredient):\n",
    "    \n",
    "    ingredients_list = results_ingredient['results']['bindings']\n",
    "    ingredients = set()\n",
    "    \n",
    "    for i in ingredients_list:\n",
    "        i['name']['value'] = re.sub(r\"[^a-zA-Z0-9(),; ]+\", '', i['name']['value'])\n",
    "        for j in i['name']['value'].replace(';', ',').replace('(',',').replace(')',',').split(','):\n",
    "            if len(j.replace(' ', '')) > 2 and re.sub('[0-9 ]+[oz]*', '', j):\n",
    "                ingredients.add(j.lower().lstrip().rstrip())\n",
    "    try:\n",
    "        ingredients.remove('')\n",
    "    except:\n",
    "        pass\n",
    "    try:\n",
    "        ingredients.remove('.')\n",
    "    except:\n",
    "        pass\n",
    "    return ingredients"
   ]
  },
  {
   "cell_type": "code",
   "execution_count": null,
   "metadata": {},
   "outputs": [],
   "source": [
    "results_allergies = query_allergies('penicillin')"
   ]
  },
  {
   "cell_type": "code",
   "execution_count": null,
   "metadata": {},
   "outputs": [],
   "source": [
    "for result in results_allergies[\"results\"][\"bindings\"]:\n",
    "    print('{}\\t{}'.format(result[\"allergy_label\"][\"value\"],result[\"allergen_label\"][\"value\"]))"
   ]
  },
  {
   "cell_type": "code",
   "execution_count": null,
   "metadata": {},
   "outputs": [],
   "source": [
    "results_allergies['results']['bindings'][0]['allergy_label'].keys()"
   ]
  },
  {
   "cell_type": "code",
   "execution_count": null,
   "metadata": {},
   "outputs": [],
   "source": [
    "results_dish = query_dish('pad thai')"
   ]
  },
  {
   "cell_type": "code",
   "execution_count": null,
   "metadata": {},
   "outputs": [],
   "source": [
    "results_ingredient = query_ingredient('chayote')"
   ]
  },
  {
   "cell_type": "code",
   "execution_count": null,
   "metadata": {},
   "outputs": [],
   "source": [
    "print(parse_dish(results_ingredient))"
   ]
  },
  {
   "cell_type": "code",
   "execution_count": null,
   "metadata": {},
   "outputs": [],
   "source": [
    "for ingredient in sorted(parse_ingredients(results_dish)):\n",
    "    print(ingredient)\n",
    "# print(parse_ingredients(results_dish))"
   ]
  },
  {
   "cell_type": "code",
   "execution_count": null,
   "metadata": {},
   "outputs": [],
   "source": [
    "len(results_ingredient['results']['bindings'])"
   ]
  },
  {
   "cell_type": "code",
   "execution_count": null,
   "metadata": {},
   "outputs": [],
   "source": [
    "ingredients = set()\n",
    "for i in results_food['results']['bindings']:\n",
    "    print(i['ingredients']['value'])\n",
    "    for j in i['ingredients']['value'].replace(';', ',').replace('(',',').replace(')',',').split(','):\n",
    "        ingredients.add(j.lower().lstrip().rstrip())\n",
    "try:\n",
    "    ingredients.remove('.')\n",
    "    ingredients.remove('')\n",
    "except:\n",
    "    pass"
   ]
  },
  {
   "cell_type": "code",
   "execution_count": null,
   "metadata": {},
   "outputs": [],
   "source": [
    "ingredients"
   ]
  }
 ],
 "metadata": {
  "kernelspec": {
   "display_name": "Python 3",
   "language": "python",
   "name": "python3"
  },
  "language_info": {
   "codemirror_mode": {
    "name": "ipython",
    "version": 3
   },
   "file_extension": ".py",
   "mimetype": "text/x-python",
   "name": "python",
   "nbconvert_exporter": "python",
   "pygments_lexer": "ipython3",
   "version": "3.7.3"
  }
 },
 "nbformat": 4,
 "nbformat_minor": 2
}
