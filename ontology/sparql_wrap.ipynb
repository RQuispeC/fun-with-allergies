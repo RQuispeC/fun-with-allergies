{
 "cells": [
  {
   "cell_type": "code",
   "execution_count": null,
   "metadata": {},
   "outputs": [],
   "source": [
    "from SPARQLWrapper import SPARQLWrapper, JSON\n",
    "\n",
    "api_key='fernando'\n",
    "sparql = SPARQLWrapper(\"http://sparql.bioontology.org/sparql\")\n",
    "sparql.addCustomParameter(\"apikey\", api_key)\n",
    "sparql.setQuery(\"\"\"\n",
    "    PREFIX rdfs: <http://www.w3.org/2000/01/rdf-schema#>\n",
    "    PREFIX snomed-term: <http://purl.bioontology.org/ontology/SNOMEDCT/>\n",
    "    PREFIX skos: <http://www.w3.org/2004/02/skos/core#>\n",
    "    PREFIX food: <http://data.lirmm.fr/ontologies/food#>\n",
    "\n",
    "    SELECT DISTINCT ?allergy_label ?allergy ?allergenic ?allergenic_label\n",
    "    WHERE\n",
    "    {   \n",
    "        {\n",
    "            ?allergy rdfs:subClassOf snomed-term:419199007 .\n",
    "            ?allergy skos:prefLabel ?allergy_label .\n",
    "            ?allergy <http://purl.bioontology.org/ontology/SNOMEDCT/has_causative_agent> ?allergenic .\n",
    "            ?allergenic skos:prefLabel ?allergenic_label.\n",
    "        }\n",
    "        union\n",
    "        {\n",
    "            ?allergy rdfs:subClassOf ?a.\n",
    "            ?a rdfs:subClassOf snomed-term:419199007 .\n",
    "            ?allergy <http://purl.bioontology.org/ontology/SNOMEDCT/has_causative_agent> ?allergenic .\n",
    "            ?allergy skos:prefLabel ?allergy_label .\n",
    "            ?allergenic skos:prefLabel ?allergenic_label.\n",
    "        }\n",
    "        union\n",
    "        {\n",
    "            ?allergy rdfs:subClassOf ?b .\n",
    "            ?b rdfs:subClassOf ?a .\n",
    "            ?a rdfs:subClassOf snomed-term:419199007 .\n",
    "            ?allergy <http://purl.bioontology.org/ontology/SNOMEDCT/has_causative_agent> ?allergenic .\n",
    "            ?allergy skos:prefLabel ?allergy_label .\n",
    "            ?allergenic skos:prefLabel ?allergenic_label.\n",
    "        }\n",
    "        union\n",
    "        {\n",
    "            ?allergy rdfs:subClassOf ?c .\n",
    "            ?c rdfs:subClassOf ?b .\n",
    "            ?b rdfs:subClassOf ?a .\n",
    "            ?a rdfs:subClassOf snomed-term:419199007 .\n",
    "            ?allergy <http://purl.bioontology.org/ontology/SNOMEDCT/has_causative_agent> ?allergenic .\n",
    "            ?allergy skos:prefLabel ?allergy_label .\n",
    "            ?allergenic skos:prefLabel ?allergenic_label.\n",
    "        }\n",
    "        union\n",
    "        {\n",
    "            ?allergy rdfs:subClassOf ?d .\n",
    "            ?d rdfs:subClassOf ?c .\n",
    "            ?c rdfs:subClassOf ?b .\n",
    "            ?b rdfs:subClassOf ?a .\n",
    "            ?a rdfs:subClassOf snomed-term:419199007 .\n",
    "            ?allergy <http://purl.bioontology.org/ontology/SNOMEDCT/has_causative_agent> ?allergenic .\n",
    "            ?allergy skos:prefLabel ?allergy_label .\n",
    "            ?allergenic skos:prefLabel ?allergenic_label.\n",
    "        }\n",
    "        union\n",
    "        {\n",
    "            ?allergy rdfs:subClassOf ?e .\n",
    "            ?e rdfs:subClassOf ?d .\n",
    "            ?d rdfs:subClassOf ?c .\n",
    "            ?c rdfs:subClassOf ?b .\n",
    "            ?b rdfs:subClassOf ?a .\n",
    "            ?a rdfs:subClassOf snomed-term:419199007 .\n",
    "            ?allergy <http://purl.bioontology.org/ontology/SNOMEDCT/has_causative_agent> ?allergenic .\n",
    "            ?allergy skos:prefLabel ?allergy_label .\n",
    "            ?allergenic skos:prefLabel ?allergenic_label.\n",
    "        }\n",
    "        FILTER()\n",
    "    }\n",
    "\"\"\")\n",
    "sparql.setReturnFormat(JSON)\n",
    "results = sparql.query().convert()\n",
    "\n",
    "for result in results[\"results\"][\"bindings\"]:\n",
    "        print('{}\\t{}'.format(result[\"allergy_label\"][\"value\"],result[\"allergenic_label\"][\"value\"]))\n"
   ]
  },
  {
   "cell_type": "code",
   "execution_count": null,
   "metadata": {},
   "outputs": [],
   "source": [
    "results['results']['bindings'][0]['allergy_label'].keys()"
   ]
  },
  {
   "cell_type": "code",
   "execution_count": null,
   "metadata": {},
   "outputs": [],
   "source": [
    "%endpoint http://localhost:8890/sparql\n",
    "# %display raw\n",
    "%format json\n",
    "%qparam apikey f9367108-21b4-4554-aa43-dee8fb7ccaea                             \n",
    "\n",
    "%show all\n",
    "PREFIX food: <http://data.lirmm.fr/ontologies/food#>\n",
    "PREFIX dbo: <http://dbpedia.org/ontology/>\n",
    "PREFIX owl: <http://www.w3.org/2002/07/owl#>\n",
    "PREFIX dbpedia: <http://dbpedia.org/ontology/> \n",
    "\n",
    "SELECT ?name ?ingredients\n",
    "WHERE {\n",
    "        ?product food:IngredientListAsText ?ingredients .\n",
    "        ?product food:name ?name .\n",
    "        minus {?product food:IngredientListAsText \"\"}\n",
    "}"
   ]
  },
  {
   "cell_type": "code",
   "execution_count": null,
   "metadata": {},
   "outputs": [],
   "source": [
    "def query_ingredient(ingredient):\n",
    "    \n",
    "    sparql = SPARQLWrapper(\"http://localhost:8890/sparql\")\n",
    "    sparql.setQuery(\"\"\"\n",
    "        PREFIX food: <http://data.lirmm.fr/ontologies/food#>\n",
    "        PREFIX dbo: <http://dbpedia.org/ontology/>\n",
    "        PREFIX owl: <http://www.w3.org/2002/07/owl#>\n",
    "        PREFIX dbpedia: <http://dbpedia.org/ontology/> \n",
    "\n",
    "        SELECT ?name ?ingredients\n",
    "        WHERE {\n",
    "                ?product food:IngredientListAsText ?ingredients .\n",
    "                ?product food:name ?name .\n",
    "                FILTER regex(str(lcase(?ingredients)), '%s')\n",
    "        }\n",
    "    \"\"\" % ingredient)\n",
    "    sparql.setReturnFormat(JSON)\n",
    "    results_food = sparql.query().convert()\n",
    "    return results_food\n"
   ]
  },
  {
   "cell_type": "code",
   "execution_count": null,
   "metadata": {},
   "outputs": [],
   "source": [
    "def query_dish(dish_name):\n",
    "    \n",
    "    sparql = SPARQLWrapper(\"http://localhost:8890/sparql\")\n",
    "    sparql.setQuery(\"\"\"\n",
    "        PREFIX food: <http://data.lirmm.fr/ontologies/food#>\n",
    "        PREFIX dbo: <http://dbpedia.org/ontology/>\n",
    "        PREFIX owl: <http://www.w3.org/2002/07/owl#>\n",
    "        PREFIX dbpedia: <http://dbpedia.org/ontology/> \n",
    "\n",
    "        SELECT ?name ?ingredients\n",
    "        WHERE {\n",
    "                ?product food:IngredientListAsText ?ingredients .\n",
    "                ?product food:name ?name .\n",
    "                FILTER regex(str(lcase(?name)), '%s')\n",
    "        }\n",
    "    \"\"\" % dish_name)\n",
    "    sparql.setReturnFormat(JSON)\n",
    "    results_food = sparql.query().convert()\n",
    "    return results_food"
   ]
  },
  {
   "cell_type": "code",
   "execution_count": null,
   "metadata": {},
   "outputs": [],
   "source": [
    "results_food = query_dish('ham sandwich')"
   ]
  },
  {
   "cell_type": "code",
   "execution_count": null,
   "metadata": {},
   "outputs": [],
   "source": [
    "results_food = query_ingredient('chayote')"
   ]
  },
  {
   "cell_type": "code",
   "execution_count": null,
   "metadata": {},
   "outputs": [],
   "source": [
    "len(results_food['results']['bindings'])"
   ]
  },
  {
   "cell_type": "code",
   "execution_count": null,
   "metadata": {},
   "outputs": [],
   "source": [
    "ingredients = set()\n",
    "for i in results_food['results']['bindings']:\n",
    "    print(i['ingredients']['value'])\n",
    "    for j in i['ingredients']['value'].replace('(',',').replace(')',',').split(','):\n",
    "        ingredients.add(j.lower().lstrip().rstrip())\n",
    "try:\n",
    "    ingredients.remove('.')\n",
    "    ingredients.remove('')\n",
    "except:\n",
    "    pass"
   ]
  },
  {
   "cell_type": "code",
   "execution_count": null,
   "metadata": {},
   "outputs": [],
   "source": [
    "ingredients"
   ]
  }
 ],
 "metadata": {
  "kernelspec": {
   "display_name": "Python 3",
   "language": "python",
   "name": "python3"
  },
  "language_info": {
   "codemirror_mode": {
    "name": "ipython",
    "version": 3
   },
   "file_extension": ".py",
   "mimetype": "text/x-python",
   "name": "python",
   "nbconvert_exporter": "python",
   "pygments_lexer": "ipython3",
   "version": "3.6.5"
  }
 },
 "nbformat": 4,
 "nbformat_minor": 2
}
