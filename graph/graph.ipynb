{
 "cells": [
  {
   "cell_type": "markdown",
   "metadata": {},
   "source": [
    "# NHANES Analysis of Fishbone Variables\n",
    "\n",
    "In this notebook, we will analyze the correlation among variables and profiles of individuals examined in NHANES survey. The focus is on four variables known as Fishbone: WBC, Hgb, HCT, and PLT (see below).  This work is based on the research of Patrícia Raia Nogueira Cavoto.\n",
    "\n",
    "### Selecting the driver\n",
    "\n",
    "The sentence below defines the driver for the database."
   ]
  },
  {
   "cell_type": "code",
   "execution_count": 1,
   "metadata": {},
   "outputs": [],
   "source": [
    "%defaultDatasource jdbc:h2:mem:db"
   ]
  },
  {
   "cell_type": "markdown",
   "metadata": {},
   "source": [
    "# Reference values for NHANES for the 2005-2006 survey\n",
    "\n",
    "* Extracted from data of the NHANES Web site (https://wwwn.cdc.gov/nchs/nhanes/).\n",
    "\n",
    "## Importing normal ranges of values indicated in the NHANES documentation\n",
    "\n",
    "The following query imports the file `reference-ranges.csv` that contains reference ranges from NHANES.\n",
    "\n",
    "* For each variable it is indicated\n",
    "  - applicable gender\n",
    "  - age range (ageStart until ageEnd)\n",
    "\n",
    "* The range is indicated in the form of mininum and maximum values considered normal."
   ]
  },
  {
   "cell_type": "code",
   "execution_count": 2,
   "metadata": {},
   "outputs": [
    {
     "data": {
      "application/vnd.jupyter.widget-view+json": {
       "model_id": "29fe13c2-85d5-4a86-ad03-1d786bf406ac",
       "version_major": 2,
       "version_minor": 0
      },
      "method": "display_data"
     },
     "metadata": {},
     "output_type": "display_data"
    }
   ],
   "source": [
    "DROP TABLE IF EXISTS Patients;\n",
    "CREATE TABLE Patients (\n",
    "  Id VARCHAR (100) ,\n",
    "  BIRTHDATE VARCHAR (100) ,\n",
    "  DEATHDATE VARCHAR(50),\n",
    "  SSN VARCHAR(50),\n",
    "  DRIVERS VARCHAR(50),\n",
    "  PASSPORT VARCHAR(50),\n",
    "  PREFIX VARCHAR (100) ,\n",
    "  FIRST VARCHAR (100) ,\n",
    "  LAST VARCHAR(50),\n",
    "  SUFFIX VARCHAR(50),\n",
    "  MAIDEN VARCHAR(50),\n",
    "  MARITAL VARCHAR(50),\n",
    "  RACE VARCHAR (100) ,\n",
    "  ETHNICITY VARCHAR (100) ,\n",
    "  GENDER VARCHAR(50),\n",
    "  BIRTHPLACE VARCHAR(100),\n",
    "  ADDRESS VARCHAR(50),\n",
    "  CITY VARCHAR(50),\n",
    "  STATE VARCHAR(50),\n",
    "  ZIP VARCHAR(50)\n",
    ") AS SELECT\n",
    "  Id,BIRTHDATE,DEATHDATE,SSN,DRIVERS,PASSPORT,PREFIX, FIRST, LAST,\n",
    "  SUFFIX ,MAIDEN ,MARITAL ,RACE , ETHNICITY,GENDER ,BIRTHPLACE , ADDRESS,CITY ,STATE ,ZIP\n",
    "FROM CSVREAD('../data/Simulation/patients.csv');\n",
    "\n",
    "select * from Patients"
   ]
  },
  {
   "cell_type": "code",
   "execution_count": 3,
   "metadata": {},
   "outputs": [
    {
     "data": {
      "application/vnd.jupyter.widget-view+json": {
       "model_id": "54e6a7ef-9261-4dfd-8568-60000134501a",
       "version_major": 2,
       "version_minor": 0
      },
      "method": "display_data"
     },
     "metadata": {},
     "output_type": "display_data"
    }
   ],
   "source": [
    "DROP TABLE IF EXISTS Medications;\n",
    "CREATE TABLE Medications (\n",
    "  START VARCHAR (100) ,\n",
    "  STOP VARCHAR (100) ,\n",
    "  PATIENT VARCHAR(50),\n",
    "  ENCOUNTER VARCHAR(50),\n",
    "  CODE VARCHAR(50),\n",
    "  DESCRIPTION VARCHAR(150),\n",
    "  COST DECIMAL(8,2),\n",
    "  DISPENSES int(10) ,\n",
    "  TOTALCOST DECIMAL(9,2),\n",
    "  REASONCODE VARCHAR(100),\n",
    "  REASONDESCRIPTION VARCHAR(100)\n",
    ") AS SELECT\n",
    "  START,STOP,PATIENT,ENCOUNTER,CODE,DESCRIPTION,COST, DISPENSES, TOTALCOST,\n",
    "  REASONCODE ,REASONDESCRIPTION\n",
    "FROM CSVREAD('../data/Simulation/medications.csv');\n",
    "\n",
    "select * from Medications"
   ]
  },
  {
   "cell_type": "code",
   "execution_count": 4,
   "metadata": {},
   "outputs": [
    {
     "data": {
      "application/vnd.jupyter.widget-view+json": {
       "model_id": "1c7f747a-0517-434e-b9c0-b5a4befa8533",
       "version_major": 2,
       "version_minor": 0
      },
      "method": "display_data"
     },
     "metadata": {},
     "output_type": "display_data"
    }
   ],
   "source": [
    "DROP TABLE IF EXISTS Allergies;\n",
    "CREATE TABLE Allergies (\n",
    "  START VARCHAR (100) ,\n",
    "  STOP VARCHAR (100) ,\n",
    "  PATIENT VARCHAR(50),\n",
    "  ENCOUNTER VARCHAR(50),\n",
    "  CODE VARCHAR(50),\n",
    "  DESCRIPTION VARCHAR(150)\n",
    ") AS SELECT\n",
    "  START,STOP,PATIENT,ENCOUNTER,CODE,DESCRIPTION\n",
    "FROM CSVREAD('../data/Simulation/allergies.csv');\n",
    "\n",
    "select * from allergies"
   ]
  },
  {
   "cell_type": "code",
   "execution_count": 5,
   "metadata": {},
   "outputs": [
    {
     "data": {
      "application/vnd.jupyter.widget-view+json": {
       "model_id": "4bc0e9ea-fe3e-45f9-8d63-05c3bf85ed68",
       "version_major": 2,
       "version_minor": 0
      },
      "method": "display_data"
     },
     "metadata": {},
     "output_type": "display_data"
    }
   ],
   "source": [
    "DROP VIEW Patients_Medications IF EXISTS;\n",
    "CREATE VIEW Patients_Medications AS\n",
    "\n",
    "SELECT p.Id pessoa , m.DESCRIPTION medicamento, m.ENCOUNTER ENCOUNTER\n",
    "FROM Medications m INNER JOIN Patients p \n",
    "ON m.PATIENT=p.Id;\n",
    "\n",
    "\n",
    "select * from Patients_Medications "
   ]
  },
  {
   "cell_type": "code",
   "execution_count": 6,
   "metadata": {},
   "outputs": [
    {
     "data": {
      "application/vnd.jupyter.widget-view+json": {
       "model_id": "63c2d175-3145-40ec-b4b4-9e4c8a09a3f2",
       "version_major": 2,
       "version_minor": 0
      },
      "method": "display_data"
     },
     "metadata": {},
     "output_type": "display_data"
    }
   ],
   "source": [
    "DROP VIEW Patients_allergies IF EXISTS;\n",
    "CREATE VIEW Patients_allergies AS\n",
    "\n",
    "SELECT p.Id pessoa , m.DESCRIPTION allergie, m.ENCOUNTER ENCOUNTER\n",
    "FROM allergies m INNER JOIN Patients p \n",
    "ON m.PATIENT=p.Id;\n",
    "\n",
    "\n",
    "select * from Patients_allergies "
   ]
  },
  {
   "cell_type": "code",
   "execution_count": 7,
   "metadata": {
    "scrolled": true
   },
   "outputs": [
    {
     "data": {
      "application/vnd.jupyter.widget-view+json": {
       "model_id": "1ac18e22-44e1-48a9-a47e-e34629f9734d",
       "version_major": 2,
       "version_minor": 0
      },
      "method": "display_data"
     },
     "metadata": {},
     "output_type": "display_data"
    }
   ],
   "source": [
    "DROP VIEW Patients_allergies_Medications IF EXISTS;\n",
    "CREATE VIEW Patients_allergies_Medications AS\n",
    "\n",
    "SELECT a.allergie allergie, m.medicamento medicamento\n",
    "FROM Patients_allergies a INNER JOIN Patients_Medications m \n",
    "ON a.pessoa=m.pessoa and a.ENCOUNTER = m.ENCOUNTER; \n",
    "\n",
    "select * from Patients_allergies_Medications "
   ]
  },
  {
   "cell_type": "code",
   "execution_count": 8,
   "metadata": {},
   "outputs": [
    {
     "data": {
      "text/plain": [
       "9"
      ]
     },
     "execution_count": 8,
     "metadata": {},
     "output_type": "execute_result"
    }
   ],
   "source": [
    "SELECT AVG(NumeroMedicamentos) MediaMedicamentos\n",
    "FROM (SELECT COUNT(*) Numeromedicamentos\n",
    "      FROM Patients_Medications\n",
    "      GROUP BY Pessoa);"
   ]
  },
  {
   "cell_type": "code",
   "execution_count": 9,
   "metadata": {},
   "outputs": [],
   "source": [
    "DROP VIEW Patients_medicamentos_mayor_a_media IF EXISTS;\n",
    "CREATE VIEW Patients_medicamentos_mayor_a_media AS\n",
    "\n",
    "SELECT Pessoa, COUNT(*) Numeromedicamentos\n",
    "FROM Patients_Medications\n",
    "GROUP BY Pessoa\n",
    "HAVING Numeromedicamentos > (SELECT AVG(NumeroMedicamentos) MediaMedicamentos\n",
    "                             FROM (SELECT COUNT(*) Numeromedicamentos\n",
    "                                   FROM Patients_Medications\n",
    "                                   GROUP BY Pessoa))"
   ]
  },
  {
   "cell_type": "code",
   "execution_count": 10,
   "metadata": {},
   "outputs": [
    {
     "data": {
      "application/vnd.jupyter.widget-view+json": {
       "model_id": "e8ddb2d8-7b19-449c-90d3-94c282a36e03",
       "version_major": 2,
       "version_minor": 0
      },
      "method": "display_data"
     },
     "metadata": {},
     "output_type": "display_data"
    }
   ],
   "source": [
    "select * from Patients_medicamentos_mayor_a_media;"
   ]
  },
  {
   "cell_type": "code",
   "execution_count": 11,
   "metadata": {},
   "outputs": [
    {
     "data": {
      "text/plain": [
       "4"
      ]
     },
     "execution_count": 11,
     "metadata": {},
     "output_type": "execute_result"
    }
   ],
   "source": [
    "SELECT AVG(NumeroMedicamentos) MediaMedicamentos\n",
    "FROM (SELECT COUNT(*) Numeromedicamentos\n",
    "      FROM Patients_allergies\n",
    "      GROUP BY Pessoa);"
   ]
  },
  {
   "cell_type": "code",
   "execution_count": 12,
   "metadata": {},
   "outputs": [],
   "source": [
    "DROP VIEW Patients_allergies_mayor_a_media IF EXISTS;\n",
    "CREATE VIEW Patients_allergies_mayor_a_media AS\n",
    "\n",
    "SELECT Pessoa, COUNT(*) Numeromedicamentos\n",
    "FROM Patients_allergies\n",
    "GROUP BY Pessoa\n",
    "HAVING Numeromedicamentos > (SELECT AVG(NumeroMedicamentos) MediaMedicamentos\n",
    "                             FROM (SELECT COUNT(*) Numeromedicamentos\n",
    "                                   FROM Patients_allergies\n",
    "                                   GROUP BY Pessoa))"
   ]
  },
  {
   "cell_type": "code",
   "execution_count": 13,
   "metadata": {},
   "outputs": [
    {
     "data": {
      "application/vnd.jupyter.widget-view+json": {
       "model_id": "c8eb7274-93ee-4607-890d-0b59b7bb8e7d",
       "version_major": 2,
       "version_minor": 0
      },
      "method": "display_data"
     },
     "metadata": {},
     "output_type": "display_data"
    }
   ],
   "source": [
    "select * from Patients_allergies_mayor_a_media;"
   ]
  },
  {
   "cell_type": "code",
   "execution_count": 14,
   "metadata": {},
   "outputs": [],
   "source": [
    "DROP VIEW pessoas_mayor_a_la_media IF EXISTS;\n",
    "CREATE VIEW pessoas_mayor_a_la_media AS\n",
    "SELECT a.Pessoa\n",
    "FROM Patients_medicamentos_mayor_a_media a INNER JOIN Patients_allergies_mayor_a_media b \n",
    "ON a.Pessoa=b.Pessoa;"
   ]
  },
  {
   "cell_type": "code",
   "execution_count": 19,
   "metadata": {},
   "outputs": [],
   "source": [
    "DROP VIEW pessoas_allergias_mayor_a_la_media IF EXISTS;\n",
    "CREATE VIEW pessoas_allergias_mayor_a_la_media AS\n",
    "\n",
    "SELECT a.pessoa pessoa, m.DESCRIPTION alergia\n",
    "FROM pessoas_mayor_a_la_media a INNER JOIN allergies m \n",
    "ON a.pessoa=m.PATIENT"
   ]
  },
  {
   "cell_type": "code",
   "execution_count": 16,
   "metadata": {},
   "outputs": [],
   "source": [
    "DROP VIEW pessoas_medicamentos_mayor_a_la_media IF EXISTS;\n",
    "CREATE VIEW pessoas_medicamentos_mayor_a_la_media AS\n",
    "\n",
    "SELECT a.pessoa pessoa, m.medicamento medicamento\n",
    "FROM pessoas_mayor_a_la_media a INNER JOIN Patients_Medications m \n",
    "ON a.pessoa=m.pessoa"
   ]
  },
  {
   "cell_type": "code",
   "execution_count": 21,
   "metadata": {},
   "outputs": [
    {
     "data": {
      "application/vnd.jupyter.widget-view+json": {
       "model_id": "0739c7b2-9e35-421d-819e-79d96527367a",
       "version_major": 2,
       "version_minor": 0
      },
      "method": "display_data"
     },
     "metadata": {},
     "output_type": "display_data"
    }
   ],
   "source": [
    "DROP VIEW UsoMedicamentoB IF EXISTS;\n",
    "DROP VIEW MedicamentosConjunto IF EXISTS;\n",
    "\n",
    "CREATE VIEW UsoMedicamentoB AS\n",
    "SELECT pessoa pessoaB, alergia medicamentoB\n",
    "FROM pessoas_allergias_mayor_a_la_media;\n",
    "\n",
    "CREATE VIEW MedicamentosConjunto AS\n",
    "SELECT U1.alergia medicamentoA, U2.medicamentoB medicamentoB\n",
    "FROM pessoas_allergias_mayor_a_la_media U1, UsoMedicamentoB U2\n",
    "WHERE U1.pessoa = U2.pessoaB AND U1.alergia > U2.medicamentoB;\n",
    "\n",
    "SELECT * FROM MedicamentosConjunto;"
   ]
  },
  {
   "cell_type": "code",
   "execution_count": 22,
   "metadata": {},
   "outputs": [
    {
     "data": {
      "application/vnd.jupyter.widget-view+json": {
       "model_id": "0496c082-ff88-4950-97a2-10482e1df20c",
       "version_major": 2,
       "version_minor": 0
      },
      "method": "display_data"
     },
     "metadata": {},
     "output_type": "display_data"
    }
   ],
   "source": [
    "SELECT medicamentoA, medicamentoB, COUNT(*) QuantidadeConjunta\n",
    "FROM MedicamentosConjunto\n",
    "GROUP BY medicamentoA, medicamentoB;"
   ]
  }
 ],
 "metadata": {
  "kernelspec": {
   "display_name": "SQL",
   "language": "SQL",
   "name": "sql"
  },
  "language_info": {
   "codemirror_mode": "sql",
   "file_extension": ".sql",
   "mimetype": "",
   "name": "SQL",
   "nbconverter_exporter": "",
   "version": ""
  },
  "toc": {
   "base_numbering": 1,
   "nav_menu": {},
   "number_sections": false,
   "sideBar": false,
   "skip_h1_title": false,
   "title_cell": "Table of Contents",
   "title_sidebar": "Contents",
   "toc_cell": false,
   "toc_position": {},
   "toc_section_display": false,
   "toc_window_display": false
  }
 },
 "nbformat": 4,
 "nbformat_minor": 2
}
